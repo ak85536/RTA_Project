{
 "cells": [
  {
   "cell_type": "markdown",
   "metadata": {
    "id": "m_44UR0t9rFy"
   },
   "source": [
    "## **RTA project by:** \n",
    "- Anastasia Karuzina 85536\n",
    "- Mateusz Konarczyk 119461\n",
    "- Anastasiya Pogrebytska 110068\n",
    "- Barbara Śmiech 77571"
   ]
  },
  {
   "cell_type": "markdown",
   "metadata": {
    "id": "SCgUDIasIDXy"
   },
   "source": [
    "\n",
    "**The purpose of our work was to consider data on exchange summaries from the perspective of an investor.**\n",
    "\n",
    "The work is designed to optimize the work of the investor using the following strategy:\n",
    "\n",
    "a) definition of \"movable\" valuable papers\n",
    "\n",
    "b) identifying the potential for significant change\n",
    "\n",
    "c) symbiosis of the data obtained to select the most \"moving\" valuable papers with the largest potential for possible changes (growth - in a bull market and fall - in a bear market)\n",
    "\n",
    "An extension of our application will be the analysis of stock performance in time tenors: daily, weekly, monthly and yearly. The projects concentrates on WIG20 stock listed companies. "
   ]
  },
  {
   "cell_type": "markdown",
   "metadata": {
    "id": "BbdOfUIweQP0"
   },
   "source": [
    "**The project is structured as follows:**\n",
    "\n",
    "\n",
    "1.   Retrieval of financial data (in R)\n",
    "2.   Calculation of stock perfromance (in R)\n",
    "3. Visualisation of best and worse performers (in Python)\n",
    "4. Application of investment strategy (in Python)\n"
   ]
  },
  {
   "cell_type": "markdown",
   "metadata": {
    "id": "IrEOcQcDfPR0"
   },
   "source": [
    "Environment setup for R"
   ]
  },
  {
   "cell_type": "code",
   "execution_count": 4,
   "metadata": {},
   "outputs": [
    {
     "name": "stdout",
     "output_type": "stream",
     "text": [
      "Traceback (most recent call last):\n",
      "  File \"/opt/anaconda3/lib/python3.7/runpy.py\", line 193, in _run_module_as_main\n",
      "    \"__main__\", mod_spec)\n",
      "  File \"/opt/anaconda3/lib/python3.7/runpy.py\", line 85, in _run_code\n",
      "    exec(code, run_globals)\n",
      "  File \"/opt/anaconda3/lib/python3.7/site-packages/pip/__main__.py\", line 29, in <module>\n",
      "    from pip._internal.cli.main import main as _main\n",
      "  File \"/opt/anaconda3/lib/python3.7/site-packages/pip/_internal/__init__.py\", line 4, in <module>\n",
      "    from pip._internal.utils import _log\n",
      "ImportError: cannot import name '_log' from 'pip._internal.utils' (/opt/anaconda3/lib/python3.7/site-packages/pip/_internal/utils/__init__.py)\n",
      "Note: you may need to restart the kernel to use updated packages.\n"
     ]
    }
   ],
   "source": [
    "pip install rpy2"
   ]
  },
  {
   "cell_type": "markdown",
   "metadata": {},
   "source": [
    "Install extension to use R in jupyter"
   ]
  },
  {
   "cell_type": "code",
   "execution_count": 5,
   "metadata": {
    "id": "mHKTShUYfhcS"
   },
   "outputs": [
    {
     "name": "stderr",
     "output_type": "stream",
     "text": [
      "Unable to determine R library path: Command '('/opt/anaconda3/lib/R/bin/Rscript', '-e', 'cat(Sys.getenv(\"LD_LIBRARY_PATH\"))')' died with <Signals.SIGABRT: 6>.\n"
     ]
    },
    {
     "ename": "OSError",
     "evalue": "cannot load library '/opt/anaconda3/lib/R/lib/libR.dylib': dlopen(/opt/anaconda3/lib/R/lib/libR.dylib, 0x0002): Library not loaded: @rpath/libreadline.6.2.dylib\n  Referenced from: /opt/anaconda3/lib/R/lib/libR.dylib\n  Reason: tried: '/opt/anaconda3/lib/R/lib/../../libreadline.6.2.dylib' (no such file), '/opt/anaconda3/lib/R/lib/../../libreadline.6.2.dylib' (no such file), '/opt/anaconda3/lib/libreadline.6.2.dylib' (no such file), '/opt/anaconda3/lib/libreadline.6.2.dylib' (no such file), '/opt/anaconda3/lib/libreadline.6.2.dylib' (no such file), '/opt/anaconda3/lib/python3.7/site-packages/../../libreadline.6.2.dylib' (no such file), '/opt/anaconda3/lib/libreadline.6.2.dylib' (no such file), '/opt/anaconda3/lib/libreadline.6.2.dylib' (no such file), '/opt/anaconda3/bin/../lib/libreadline.6.2.dylib' (no such file), '/usr/local/lib/libreadline.6.2.dylib' (no such file), '/usr/lib/libreadline.6.2.dylib' (no such file)",
     "output_type": "error",
     "traceback": [
      "\u001b[0;31m---------------------------------------------------------------------------\u001b[0m",
      "\u001b[0;31mOSError\u001b[0m                                   Traceback (most recent call last)",
      "\u001b[0;32m<ipython-input-5-fb23c6edefe4>\u001b[0m in \u001b[0;36m<module>\u001b[0;34m\u001b[0m\n\u001b[0;32m----> 1\u001b[0;31m \u001b[0mget_ipython\u001b[0m\u001b[0;34m(\u001b[0m\u001b[0;34m)\u001b[0m\u001b[0;34m.\u001b[0m\u001b[0mrun_line_magic\u001b[0m\u001b[0;34m(\u001b[0m\u001b[0;34m'load_ext'\u001b[0m\u001b[0;34m,\u001b[0m \u001b[0;34m'rpy2.ipython'\u001b[0m\u001b[0;34m)\u001b[0m\u001b[0;34m\u001b[0m\u001b[0;34m\u001b[0m\u001b[0m\n\u001b[0m",
      "\u001b[0;32m/opt/anaconda3/lib/python3.7/site-packages/IPython/core/interactiveshell.py\u001b[0m in \u001b[0;36mrun_line_magic\u001b[0;34m(self, magic_name, line, _stack_depth)\u001b[0m\n\u001b[1;32m   2315\u001b[0m                 \u001b[0mkwargs\u001b[0m\u001b[0;34m[\u001b[0m\u001b[0;34m'local_ns'\u001b[0m\u001b[0;34m]\u001b[0m \u001b[0;34m=\u001b[0m \u001b[0msys\u001b[0m\u001b[0;34m.\u001b[0m\u001b[0m_getframe\u001b[0m\u001b[0;34m(\u001b[0m\u001b[0mstack_depth\u001b[0m\u001b[0;34m)\u001b[0m\u001b[0;34m.\u001b[0m\u001b[0mf_locals\u001b[0m\u001b[0;34m\u001b[0m\u001b[0;34m\u001b[0m\u001b[0m\n\u001b[1;32m   2316\u001b[0m             \u001b[0;32mwith\u001b[0m \u001b[0mself\u001b[0m\u001b[0;34m.\u001b[0m\u001b[0mbuiltin_trap\u001b[0m\u001b[0;34m:\u001b[0m\u001b[0;34m\u001b[0m\u001b[0;34m\u001b[0m\u001b[0m\n\u001b[0;32m-> 2317\u001b[0;31m                 \u001b[0mresult\u001b[0m \u001b[0;34m=\u001b[0m \u001b[0mfn\u001b[0m\u001b[0;34m(\u001b[0m\u001b[0;34m*\u001b[0m\u001b[0margs\u001b[0m\u001b[0;34m,\u001b[0m \u001b[0;34m**\u001b[0m\u001b[0mkwargs\u001b[0m\u001b[0;34m)\u001b[0m\u001b[0;34m\u001b[0m\u001b[0;34m\u001b[0m\u001b[0m\n\u001b[0m\u001b[1;32m   2318\u001b[0m             \u001b[0;32mreturn\u001b[0m \u001b[0mresult\u001b[0m\u001b[0;34m\u001b[0m\u001b[0;34m\u001b[0m\u001b[0m\n\u001b[1;32m   2319\u001b[0m \u001b[0;34m\u001b[0m\u001b[0m\n",
      "\u001b[0;32m</opt/anaconda3/lib/python3.7/site-packages/decorator.py:decorator-gen-64>\u001b[0m in \u001b[0;36mload_ext\u001b[0;34m(self, module_str)\u001b[0m\n",
      "\u001b[0;32m/opt/anaconda3/lib/python3.7/site-packages/IPython/core/magic.py\u001b[0m in \u001b[0;36m<lambda>\u001b[0;34m(f, *a, **k)\u001b[0m\n\u001b[1;32m    185\u001b[0m     \u001b[0;31m# but it's overkill for just that one bit of state.\u001b[0m\u001b[0;34m\u001b[0m\u001b[0;34m\u001b[0m\u001b[0;34m\u001b[0m\u001b[0m\n\u001b[1;32m    186\u001b[0m     \u001b[0;32mdef\u001b[0m \u001b[0mmagic_deco\u001b[0m\u001b[0;34m(\u001b[0m\u001b[0marg\u001b[0m\u001b[0;34m)\u001b[0m\u001b[0;34m:\u001b[0m\u001b[0;34m\u001b[0m\u001b[0;34m\u001b[0m\u001b[0m\n\u001b[0;32m--> 187\u001b[0;31m         \u001b[0mcall\u001b[0m \u001b[0;34m=\u001b[0m \u001b[0;32mlambda\u001b[0m \u001b[0mf\u001b[0m\u001b[0;34m,\u001b[0m \u001b[0;34m*\u001b[0m\u001b[0ma\u001b[0m\u001b[0;34m,\u001b[0m \u001b[0;34m**\u001b[0m\u001b[0mk\u001b[0m\u001b[0;34m:\u001b[0m \u001b[0mf\u001b[0m\u001b[0;34m(\u001b[0m\u001b[0;34m*\u001b[0m\u001b[0ma\u001b[0m\u001b[0;34m,\u001b[0m \u001b[0;34m**\u001b[0m\u001b[0mk\u001b[0m\u001b[0;34m)\u001b[0m\u001b[0;34m\u001b[0m\u001b[0;34m\u001b[0m\u001b[0m\n\u001b[0m\u001b[1;32m    188\u001b[0m \u001b[0;34m\u001b[0m\u001b[0m\n\u001b[1;32m    189\u001b[0m         \u001b[0;32mif\u001b[0m \u001b[0mcallable\u001b[0m\u001b[0;34m(\u001b[0m\u001b[0marg\u001b[0m\u001b[0;34m)\u001b[0m\u001b[0;34m:\u001b[0m\u001b[0;34m\u001b[0m\u001b[0;34m\u001b[0m\u001b[0m\n",
      "\u001b[0;32m/opt/anaconda3/lib/python3.7/site-packages/IPython/core/magics/extension.py\u001b[0m in \u001b[0;36mload_ext\u001b[0;34m(self, module_str)\u001b[0m\n\u001b[1;32m     31\u001b[0m         \u001b[0;32mif\u001b[0m \u001b[0;32mnot\u001b[0m \u001b[0mmodule_str\u001b[0m\u001b[0;34m:\u001b[0m\u001b[0;34m\u001b[0m\u001b[0;34m\u001b[0m\u001b[0m\n\u001b[1;32m     32\u001b[0m             \u001b[0;32mraise\u001b[0m \u001b[0mUsageError\u001b[0m\u001b[0;34m(\u001b[0m\u001b[0;34m'Missing module name.'\u001b[0m\u001b[0;34m)\u001b[0m\u001b[0;34m\u001b[0m\u001b[0;34m\u001b[0m\u001b[0m\n\u001b[0;32m---> 33\u001b[0;31m         \u001b[0mres\u001b[0m \u001b[0;34m=\u001b[0m \u001b[0mself\u001b[0m\u001b[0;34m.\u001b[0m\u001b[0mshell\u001b[0m\u001b[0;34m.\u001b[0m\u001b[0mextension_manager\u001b[0m\u001b[0;34m.\u001b[0m\u001b[0mload_extension\u001b[0m\u001b[0;34m(\u001b[0m\u001b[0mmodule_str\u001b[0m\u001b[0;34m)\u001b[0m\u001b[0;34m\u001b[0m\u001b[0;34m\u001b[0m\u001b[0m\n\u001b[0m\u001b[1;32m     34\u001b[0m \u001b[0;34m\u001b[0m\u001b[0m\n\u001b[1;32m     35\u001b[0m         \u001b[0;32mif\u001b[0m \u001b[0mres\u001b[0m \u001b[0;34m==\u001b[0m \u001b[0;34m'already loaded'\u001b[0m\u001b[0;34m:\u001b[0m\u001b[0;34m\u001b[0m\u001b[0;34m\u001b[0m\u001b[0m\n",
      "\u001b[0;32m/opt/anaconda3/lib/python3.7/site-packages/IPython/core/extensions.py\u001b[0m in \u001b[0;36mload_extension\u001b[0;34m(self, module_str)\u001b[0m\n\u001b[1;32m     78\u001b[0m             \u001b[0;32mif\u001b[0m \u001b[0mmodule_str\u001b[0m \u001b[0;32mnot\u001b[0m \u001b[0;32min\u001b[0m \u001b[0msys\u001b[0m\u001b[0;34m.\u001b[0m\u001b[0mmodules\u001b[0m\u001b[0;34m:\u001b[0m\u001b[0;34m\u001b[0m\u001b[0;34m\u001b[0m\u001b[0m\n\u001b[1;32m     79\u001b[0m                 \u001b[0;32mwith\u001b[0m \u001b[0mprepended_to_syspath\u001b[0m\u001b[0;34m(\u001b[0m\u001b[0mself\u001b[0m\u001b[0;34m.\u001b[0m\u001b[0mipython_extension_dir\u001b[0m\u001b[0;34m)\u001b[0m\u001b[0;34m:\u001b[0m\u001b[0;34m\u001b[0m\u001b[0;34m\u001b[0m\u001b[0m\n\u001b[0;32m---> 80\u001b[0;31m                     \u001b[0mmod\u001b[0m \u001b[0;34m=\u001b[0m \u001b[0mimport_module\u001b[0m\u001b[0;34m(\u001b[0m\u001b[0mmodule_str\u001b[0m\u001b[0;34m)\u001b[0m\u001b[0;34m\u001b[0m\u001b[0;34m\u001b[0m\u001b[0m\n\u001b[0m\u001b[1;32m     81\u001b[0m                     \u001b[0;32mif\u001b[0m \u001b[0mmod\u001b[0m\u001b[0;34m.\u001b[0m\u001b[0m__file__\u001b[0m\u001b[0;34m.\u001b[0m\u001b[0mstartswith\u001b[0m\u001b[0;34m(\u001b[0m\u001b[0mself\u001b[0m\u001b[0;34m.\u001b[0m\u001b[0mipython_extension_dir\u001b[0m\u001b[0;34m)\u001b[0m\u001b[0;34m:\u001b[0m\u001b[0;34m\u001b[0m\u001b[0;34m\u001b[0m\u001b[0m\n\u001b[1;32m     82\u001b[0m                         print((\"Loading extensions from {dir} is deprecated. \"\n",
      "\u001b[0;32m/opt/anaconda3/lib/python3.7/importlib/__init__.py\u001b[0m in \u001b[0;36mimport_module\u001b[0;34m(name, package)\u001b[0m\n\u001b[1;32m    125\u001b[0m                 \u001b[0;32mbreak\u001b[0m\u001b[0;34m\u001b[0m\u001b[0;34m\u001b[0m\u001b[0m\n\u001b[1;32m    126\u001b[0m             \u001b[0mlevel\u001b[0m \u001b[0;34m+=\u001b[0m \u001b[0;36m1\u001b[0m\u001b[0;34m\u001b[0m\u001b[0;34m\u001b[0m\u001b[0m\n\u001b[0;32m--> 127\u001b[0;31m     \u001b[0;32mreturn\u001b[0m \u001b[0m_bootstrap\u001b[0m\u001b[0;34m.\u001b[0m\u001b[0m_gcd_import\u001b[0m\u001b[0;34m(\u001b[0m\u001b[0mname\u001b[0m\u001b[0;34m[\u001b[0m\u001b[0mlevel\u001b[0m\u001b[0;34m:\u001b[0m\u001b[0;34m]\u001b[0m\u001b[0;34m,\u001b[0m \u001b[0mpackage\u001b[0m\u001b[0;34m,\u001b[0m \u001b[0mlevel\u001b[0m\u001b[0;34m)\u001b[0m\u001b[0;34m\u001b[0m\u001b[0;34m\u001b[0m\u001b[0m\n\u001b[0m\u001b[1;32m    128\u001b[0m \u001b[0;34m\u001b[0m\u001b[0m\n\u001b[1;32m    129\u001b[0m \u001b[0;34m\u001b[0m\u001b[0m\n",
      "\u001b[0;32m/opt/anaconda3/lib/python3.7/importlib/_bootstrap.py\u001b[0m in \u001b[0;36m_gcd_import\u001b[0;34m(name, package, level)\u001b[0m\n",
      "\u001b[0;32m/opt/anaconda3/lib/python3.7/importlib/_bootstrap.py\u001b[0m in \u001b[0;36m_find_and_load\u001b[0;34m(name, import_)\u001b[0m\n",
      "\u001b[0;32m/opt/anaconda3/lib/python3.7/importlib/_bootstrap.py\u001b[0m in \u001b[0;36m_find_and_load_unlocked\u001b[0;34m(name, import_)\u001b[0m\n",
      "\u001b[0;32m/opt/anaconda3/lib/python3.7/importlib/_bootstrap.py\u001b[0m in \u001b[0;36m_load_unlocked\u001b[0;34m(spec)\u001b[0m\n",
      "\u001b[0;32m/opt/anaconda3/lib/python3.7/importlib/_bootstrap_external.py\u001b[0m in \u001b[0;36mexec_module\u001b[0;34m(self, module)\u001b[0m\n",
      "\u001b[0;32m/opt/anaconda3/lib/python3.7/importlib/_bootstrap.py\u001b[0m in \u001b[0;36m_call_with_frames_removed\u001b[0;34m(f, *args, **kwds)\u001b[0m\n",
      "\u001b[0;32m/opt/anaconda3/lib/python3.7/site-packages/rpy2/ipython/__init__.py\u001b[0m in \u001b[0;36m<module>\u001b[0;34m\u001b[0m\n\u001b[0;32m----> 1\u001b[0;31m \u001b[0;32mfrom\u001b[0m \u001b[0;34m.\u001b[0m \u001b[0;32mimport\u001b[0m \u001b[0mrmagic\u001b[0m\u001b[0;34m\u001b[0m\u001b[0;34m\u001b[0m\u001b[0m\n\u001b[0m\u001b[1;32m      2\u001b[0m \u001b[0;34m\u001b[0m\u001b[0m\n\u001b[1;32m      3\u001b[0m \u001b[0mload_ipython_extension\u001b[0m \u001b[0;34m=\u001b[0m \u001b[0mrmagic\u001b[0m\u001b[0;34m.\u001b[0m\u001b[0mload_ipython_extension\u001b[0m\u001b[0;34m\u001b[0m\u001b[0;34m\u001b[0m\u001b[0m\n",
      "\u001b[0;32m/opt/anaconda3/lib/python3.7/site-packages/rpy2/ipython/rmagic.py\u001b[0m in \u001b[0;36m<module>\u001b[0;34m\u001b[0m\n\u001b[1;32m     53\u001b[0m \u001b[0;31m# numpy and rpy2 imports\u001b[0m\u001b[0;34m\u001b[0m\u001b[0;34m\u001b[0m\u001b[0;34m\u001b[0m\u001b[0m\n\u001b[1;32m     54\u001b[0m \u001b[0;34m\u001b[0m\u001b[0m\n\u001b[0;32m---> 55\u001b[0;31m \u001b[0;32mimport\u001b[0m \u001b[0mrpy2\u001b[0m\u001b[0;34m.\u001b[0m\u001b[0mrinterface\u001b[0m \u001b[0;32mas\u001b[0m \u001b[0mri\u001b[0m\u001b[0;34m\u001b[0m\u001b[0;34m\u001b[0m\u001b[0m\n\u001b[0m\u001b[1;32m     56\u001b[0m \u001b[0;32mimport\u001b[0m \u001b[0mrpy2\u001b[0m\u001b[0;34m.\u001b[0m\u001b[0mrinterface_lib\u001b[0m\u001b[0;34m.\u001b[0m\u001b[0mcallbacks\u001b[0m\u001b[0;34m\u001b[0m\u001b[0;34m\u001b[0m\u001b[0m\n\u001b[1;32m     57\u001b[0m \u001b[0;32mimport\u001b[0m \u001b[0mrpy2\u001b[0m\u001b[0;34m.\u001b[0m\u001b[0mrobjects\u001b[0m \u001b[0;32mas\u001b[0m \u001b[0mro\u001b[0m\u001b[0;34m\u001b[0m\u001b[0;34m\u001b[0m\u001b[0m\n",
      "\u001b[0;32m/opt/anaconda3/lib/python3.7/site-packages/rpy2/rinterface.py\u001b[0m in \u001b[0;36m<module>\u001b[0;34m\u001b[0m\n\u001b[1;32m     12\u001b[0m \u001b[0;32mimport\u001b[0m \u001b[0mwarnings\u001b[0m\u001b[0;34m\u001b[0m\u001b[0;34m\u001b[0m\u001b[0m\n\u001b[1;32m     13\u001b[0m \u001b[0;32mfrom\u001b[0m \u001b[0mtyping\u001b[0m \u001b[0;32mimport\u001b[0m \u001b[0mUnion\u001b[0m\u001b[0;34m\u001b[0m\u001b[0;34m\u001b[0m\u001b[0m\n\u001b[0;32m---> 14\u001b[0;31m \u001b[0;32mfrom\u001b[0m \u001b[0mrpy2\u001b[0m\u001b[0;34m.\u001b[0m\u001b[0mrinterface_lib\u001b[0m \u001b[0;32mimport\u001b[0m \u001b[0mopenrlib\u001b[0m\u001b[0;34m\u001b[0m\u001b[0;34m\u001b[0m\u001b[0m\n\u001b[0m\u001b[1;32m     15\u001b[0m \u001b[0;32mimport\u001b[0m \u001b[0mrpy2\u001b[0m\u001b[0;34m.\u001b[0m\u001b[0mrinterface_lib\u001b[0m\u001b[0;34m.\u001b[0m\u001b[0m_rinterface_capi\u001b[0m \u001b[0;32mas\u001b[0m \u001b[0m_rinterface\u001b[0m\u001b[0;34m\u001b[0m\u001b[0;34m\u001b[0m\u001b[0m\n\u001b[1;32m     16\u001b[0m \u001b[0;32mimport\u001b[0m \u001b[0mrpy2\u001b[0m\u001b[0;34m.\u001b[0m\u001b[0mrinterface_lib\u001b[0m\u001b[0;34m.\u001b[0m\u001b[0membedded\u001b[0m \u001b[0;32mas\u001b[0m \u001b[0membedded\u001b[0m\u001b[0;34m\u001b[0m\u001b[0;34m\u001b[0m\u001b[0m\n",
      "\u001b[0;32m/opt/anaconda3/lib/python3.7/site-packages/rpy2/rinterface_lib/openrlib.py\u001b[0m in \u001b[0;36m<module>\u001b[0;34m\u001b[0m\n\u001b[1;32m     48\u001b[0m     \u001b[0mrlib\u001b[0m \u001b[0;34m=\u001b[0m \u001b[0m_rinterface_cffi\u001b[0m\u001b[0;34m.\u001b[0m\u001b[0mlib\u001b[0m\u001b[0;34m\u001b[0m\u001b[0;34m\u001b[0m\u001b[0m\n\u001b[1;32m     49\u001b[0m \u001b[0;32melse\u001b[0m\u001b[0;34m:\u001b[0m\u001b[0;34m\u001b[0m\u001b[0;34m\u001b[0m\u001b[0m\n\u001b[0;32m---> 50\u001b[0;31m     \u001b[0mrlib\u001b[0m \u001b[0;34m=\u001b[0m \u001b[0m_dlopen_rlib\u001b[0m\u001b[0;34m(\u001b[0m\u001b[0mR_HOME\u001b[0m\u001b[0;34m)\u001b[0m\u001b[0;34m\u001b[0m\u001b[0;34m\u001b[0m\u001b[0m\n\u001b[0m\u001b[1;32m     51\u001b[0m \u001b[0;34m\u001b[0m\u001b[0m\n\u001b[1;32m     52\u001b[0m \u001b[0;34m\u001b[0m\u001b[0m\n",
      "\u001b[0;32m/opt/anaconda3/lib/python3.7/site-packages/rpy2/rinterface_lib/openrlib.py\u001b[0m in \u001b[0;36m_dlopen_rlib\u001b[0;34m(r_home)\u001b[0m\n\u001b[1;32m     41\u001b[0m         \u001b[0;32mraise\u001b[0m \u001b[0mValueError\u001b[0m\u001b[0;34m(\u001b[0m\u001b[0;34m'The library path cannot be None.'\u001b[0m\u001b[0;34m)\u001b[0m\u001b[0;34m\u001b[0m\u001b[0;34m\u001b[0m\u001b[0m\n\u001b[1;32m     42\u001b[0m     \u001b[0;32melse\u001b[0m\u001b[0;34m:\u001b[0m\u001b[0;34m\u001b[0m\u001b[0;34m\u001b[0m\u001b[0m\n\u001b[0;32m---> 43\u001b[0;31m         \u001b[0mrlib\u001b[0m \u001b[0;34m=\u001b[0m \u001b[0mffi\u001b[0m\u001b[0;34m.\u001b[0m\u001b[0mdlopen\u001b[0m\u001b[0;34m(\u001b[0m\u001b[0mlib_path\u001b[0m\u001b[0;34m)\u001b[0m\u001b[0;34m\u001b[0m\u001b[0;34m\u001b[0m\u001b[0m\n\u001b[0m\u001b[1;32m     44\u001b[0m     \u001b[0;32mreturn\u001b[0m \u001b[0mrlib\u001b[0m\u001b[0;34m\u001b[0m\u001b[0;34m\u001b[0m\u001b[0m\n\u001b[1;32m     45\u001b[0m \u001b[0;34m\u001b[0m\u001b[0m\n",
      "\u001b[0;31mOSError\u001b[0m: cannot load library '/opt/anaconda3/lib/R/lib/libR.dylib': dlopen(/opt/anaconda3/lib/R/lib/libR.dylib, 0x0002): Library not loaded: @rpath/libreadline.6.2.dylib\n  Referenced from: /opt/anaconda3/lib/R/lib/libR.dylib\n  Reason: tried: '/opt/anaconda3/lib/R/lib/../../libreadline.6.2.dylib' (no such file), '/opt/anaconda3/lib/R/lib/../../libreadline.6.2.dylib' (no such file), '/opt/anaconda3/lib/libreadline.6.2.dylib' (no such file), '/opt/anaconda3/lib/libreadline.6.2.dylib' (no such file), '/opt/anaconda3/lib/libreadline.6.2.dylib' (no such file), '/opt/anaconda3/lib/python3.7/site-packages/../../libreadline.6.2.dylib' (no such file), '/opt/anaconda3/lib/libreadline.6.2.dylib' (no such file), '/opt/anaconda3/lib/libreadline.6.2.dylib' (no such file), '/opt/anaconda3/bin/../lib/libreadline.6.2.dylib' (no such file), '/usr/local/lib/libreadline.6.2.dylib' (no such file), '/usr/lib/libreadline.6.2.dylib' (no such file)"
     ]
    }
   ],
   "source": [
    "%load_ext rpy2.ipython"
   ]
  },
  {
   "cell_type": "markdown",
   "metadata": {},
   "source": [
    "Install packages"
   ]
  },
  {
   "cell_type": "code",
   "execution_count": null,
   "metadata": {
    "colab": {
     "base_uri": "https://localhost:8080/"
    },
    "id": "mcz-tnWHkS-B",
    "outputId": "1f69eb34-8af0-4c7a-c8ce-6b49fbc9fb33"
   },
   "outputs": [
    {
     "name": "stderr",
     "output_type": "stream",
     "text": [
      "R[write to console]: Installing package into ‘/usr/local/lib/R/site-library’\n",
      "(as ‘lib’ is unspecified)\n",
      "\n",
      "R[write to console]: also installing the dependencies ‘xts’, ‘zoo’, ‘TTR’\n",
      "\n",
      "\n",
      "R[write to console]: trying URL 'https://cran.rstudio.com/src/contrib/xts_0.12.1.tar.gz'\n",
      "\n",
      "R[write to console]: Content type 'application/x-gzip'\n",
      "R[write to console]:  length 517875 bytes (505 KB)\n",
      "\n",
      "R[write to console]: =\n",
      "R[write to console]: =\n",
      "R[write to console]: =\n",
      "R[write to console]: =\n",
      "R[write to console]: =\n",
      "R[write to console]: =\n",
      "R[write to console]: =\n",
      "R[write to console]: =\n",
      "R[write to console]: =\n",
      "R[write to console]: =\n",
      "R[write to console]: =\n",
      "R[write to console]: =\n",
      "R[write to console]: =\n",
      "R[write to console]: =\n",
      "R[write to console]: =\n",
      "R[write to console]: =\n",
      "R[write to console]: =\n",
      "R[write to console]: =\n",
      "R[write to console]: =\n",
      "R[write to console]: =\n",
      "R[write to console]: =\n",
      "R[write to console]: =\n",
      "R[write to console]: =\n",
      "R[write to console]: =\n",
      "R[write to console]: =\n",
      "R[write to console]: =\n",
      "R[write to console]: =\n",
      "R[write to console]: =\n",
      "R[write to console]: =\n",
      "R[write to console]: =\n",
      "R[write to console]: =\n",
      "R[write to console]: =\n",
      "R[write to console]: =\n",
      "R[write to console]: =\n",
      "R[write to console]: =\n",
      "R[write to console]: =\n",
      "R[write to console]: =\n",
      "R[write to console]: =\n",
      "R[write to console]: =\n",
      "R[write to console]: =\n",
      "R[write to console]: =\n",
      "R[write to console]: =\n",
      "R[write to console]: =\n",
      "R[write to console]: =\n",
      "R[write to console]: =\n",
      "R[write to console]: =\n",
      "R[write to console]: =\n",
      "R[write to console]: =\n",
      "R[write to console]: =\n",
      "R[write to console]: =\n",
      "R[write to console]: \n",
      "\n",
      "R[write to console]: downloaded 505 KB\n",
      "\n",
      "\n",
      "R[write to console]: trying URL 'https://cran.rstudio.com/src/contrib/zoo_1.8-10.tar.gz'\n",
      "\n",
      "R[write to console]: Content type 'application/x-gzip'\n",
      "R[write to console]:  length 808943 bytes (789 KB)\n",
      "\n",
      "R[write to console]: =\n",
      "R[write to console]: =\n",
      "R[write to console]: =\n",
      "R[write to console]: =\n",
      "R[write to console]: =\n",
      "R[write to console]: =\n",
      "R[write to console]: =\n",
      "R[write to console]: =\n",
      "R[write to console]: =\n",
      "R[write to console]: =\n",
      "R[write to console]: =\n",
      "R[write to console]: =\n",
      "R[write to console]: =\n",
      "R[write to console]: =\n",
      "R[write to console]: =\n",
      "R[write to console]: =\n",
      "R[write to console]: =\n",
      "R[write to console]: =\n",
      "R[write to console]: =\n",
      "R[write to console]: =\n",
      "R[write to console]: =\n",
      "R[write to console]: =\n",
      "R[write to console]: =\n",
      "R[write to console]: =\n",
      "R[write to console]: =\n",
      "R[write to console]: =\n",
      "R[write to console]: =\n",
      "R[write to console]: =\n",
      "R[write to console]: =\n",
      "R[write to console]: =\n",
      "R[write to console]: =\n",
      "R[write to console]: =\n",
      "R[write to console]: =\n",
      "R[write to console]: =\n",
      "R[write to console]: =\n",
      "R[write to console]: =\n",
      "R[write to console]: =\n",
      "R[write to console]: =\n",
      "R[write to console]: =\n",
      "R[write to console]: =\n",
      "R[write to console]: =\n",
      "R[write to console]: =\n",
      "R[write to console]: =\n",
      "R[write to console]: =\n",
      "R[write to console]: =\n",
      "R[write to console]: =\n",
      "R[write to console]: =\n",
      "R[write to console]: =\n",
      "R[write to console]: =\n",
      "R[write to console]: =\n",
      "R[write to console]: \n",
      "\n",
      "R[write to console]: downloaded 789 KB\n",
      "\n",
      "\n",
      "R[write to console]: trying URL 'https://cran.rstudio.com/src/contrib/TTR_0.24.3.tar.gz'\n",
      "\n",
      "R[write to console]: Content type 'application/x-gzip'\n",
      "R[write to console]:  length 317338 bytes (309 KB)\n",
      "\n",
      "R[write to console]: =\n",
      "R[write to console]: =\n",
      "R[write to console]: =\n",
      "R[write to console]: =\n",
      "R[write to console]: =\n",
      "R[write to console]: =\n",
      "R[write to console]: =\n",
      "R[write to console]: =\n",
      "R[write to console]: =\n",
      "R[write to console]: =\n",
      "R[write to console]: =\n",
      "R[write to console]: =\n",
      "R[write to console]: =\n",
      "R[write to console]: =\n",
      "R[write to console]: =\n",
      "R[write to console]: =\n",
      "R[write to console]: =\n",
      "R[write to console]: =\n",
      "R[write to console]: =\n",
      "R[write to console]: =\n",
      "R[write to console]: =\n",
      "R[write to console]: =\n",
      "R[write to console]: =\n",
      "R[write to console]: =\n",
      "R[write to console]: =\n",
      "R[write to console]: =\n",
      "R[write to console]: =\n",
      "R[write to console]: =\n",
      "R[write to console]: =\n",
      "R[write to console]: =\n",
      "R[write to console]: =\n",
      "R[write to console]: =\n",
      "R[write to console]: =\n",
      "R[write to console]: =\n",
      "R[write to console]: =\n",
      "R[write to console]: =\n",
      "R[write to console]: =\n",
      "R[write to console]: =\n",
      "R[write to console]: =\n",
      "R[write to console]: =\n",
      "R[write to console]: =\n",
      "R[write to console]: =\n",
      "R[write to console]: =\n",
      "R[write to console]: =\n",
      "R[write to console]: =\n",
      "R[write to console]: =\n",
      "R[write to console]: =\n",
      "R[write to console]: =\n",
      "R[write to console]: =\n",
      "R[write to console]: =\n",
      "R[write to console]: \n",
      "\n",
      "R[write to console]: downloaded 309 KB\n",
      "\n",
      "\n",
      "R[write to console]: trying URL 'https://cran.rstudio.com/src/contrib/quantmod_0.4.20.tar.gz'\n",
      "\n",
      "R[write to console]: Content type 'application/x-gzip'\n",
      "R[write to console]:  length 156640 bytes (152 KB)\n",
      "\n",
      "R[write to console]: =\n",
      "R[write to console]: =\n",
      "R[write to console]: =\n",
      "R[write to console]: =\n",
      "R[write to console]: =\n",
      "R[write to console]: =\n",
      "R[write to console]: =\n",
      "R[write to console]: =\n",
      "R[write to console]: =\n",
      "R[write to console]: =\n",
      "R[write to console]: =\n",
      "R[write to console]: =\n",
      "R[write to console]: =\n",
      "R[write to console]: =\n",
      "R[write to console]: =\n",
      "R[write to console]: =\n",
      "R[write to console]: =\n",
      "R[write to console]: =\n",
      "R[write to console]: =\n",
      "R[write to console]: =\n",
      "R[write to console]: =\n",
      "R[write to console]: =\n",
      "R[write to console]: =\n",
      "R[write to console]: =\n",
      "R[write to console]: =\n",
      "R[write to console]: =\n",
      "R[write to console]: =\n",
      "R[write to console]: =\n",
      "R[write to console]: =\n",
      "R[write to console]: =\n",
      "R[write to console]: =\n",
      "R[write to console]: =\n",
      "R[write to console]: =\n",
      "R[write to console]: =\n",
      "R[write to console]: =\n",
      "R[write to console]: =\n",
      "R[write to console]: =\n",
      "R[write to console]: =\n",
      "R[write to console]: =\n",
      "R[write to console]: =\n",
      "R[write to console]: =\n",
      "R[write to console]: =\n",
      "R[write to console]: =\n",
      "R[write to console]: =\n",
      "R[write to console]: =\n",
      "R[write to console]: =\n",
      "R[write to console]: =\n",
      "R[write to console]: =\n",
      "R[write to console]: =\n",
      "R[write to console]: =\n",
      "R[write to console]: \n",
      "\n",
      "R[write to console]: downloaded 152 KB\n",
      "\n",
      "\n",
      "R[write to console]: \n",
      "\n",
      "R[write to console]: \n",
      "R[write to console]: The downloaded source packages are in\n",
      "\t‘/tmp/Rtmp8cEodp/downloaded_packages’\n",
      "R[write to console]: \n",
      "R[write to console]: \n",
      "\n",
      "R[write to console]: Installing package into ‘/usr/local/lib/R/site-library’\n",
      "(as ‘lib’ is unspecified)\n",
      "\n",
      "R[write to console]: trying URL 'https://cran.rstudio.com/src/contrib/lubridate_1.8.0.tar.gz'\n",
      "\n",
      "R[write to console]: Content type 'application/x-gzip'\n",
      "R[write to console]:  length 475704 bytes (464 KB)\n",
      "\n",
      "R[write to console]: =\n",
      "R[write to console]: =\n",
      "R[write to console]: =\n",
      "R[write to console]: =\n",
      "R[write to console]: =\n",
      "R[write to console]: =\n",
      "R[write to console]: =\n",
      "R[write to console]: =\n",
      "R[write to console]: =\n",
      "R[write to console]: =\n",
      "R[write to console]: =\n",
      "R[write to console]: =\n",
      "R[write to console]: =\n",
      "R[write to console]: =\n",
      "R[write to console]: =\n",
      "R[write to console]: =\n",
      "R[write to console]: =\n",
      "R[write to console]: =\n",
      "R[write to console]: =\n",
      "R[write to console]: =\n",
      "R[write to console]: =\n",
      "R[write to console]: =\n",
      "R[write to console]: =\n",
      "R[write to console]: =\n",
      "R[write to console]: =\n",
      "R[write to console]: =\n",
      "R[write to console]: =\n",
      "R[write to console]: =\n",
      "R[write to console]: =\n",
      "R[write to console]: =\n",
      "R[write to console]: =\n",
      "R[write to console]: =\n",
      "R[write to console]: =\n",
      "R[write to console]: =\n",
      "R[write to console]: =\n",
      "R[write to console]: =\n",
      "R[write to console]: =\n",
      "R[write to console]: =\n",
      "R[write to console]: =\n",
      "R[write to console]: =\n",
      "R[write to console]: =\n",
      "R[write to console]: =\n",
      "R[write to console]: =\n",
      "R[write to console]: =\n",
      "R[write to console]: =\n",
      "R[write to console]: =\n",
      "R[write to console]: =\n",
      "R[write to console]: =\n",
      "R[write to console]: =\n",
      "R[write to console]: =\n",
      "R[write to console]: \n",
      "\n",
      "R[write to console]: downloaded 464 KB\n",
      "\n",
      "\n",
      "R[write to console]: \n",
      "\n",
      "R[write to console]: \n",
      "R[write to console]: The downloaded source packages are in\n",
      "\t‘/tmp/Rtmp8cEodp/downloaded_packages’\n",
      "R[write to console]: \n",
      "R[write to console]: \n",
      "\n"
     ]
    }
   ],
   "source": [
    "%%R\n",
    "install.packages(\"quantmod\")\n",
    "install.packages(\"lubridate\")\n",
    "install.packages(\"jsonlite\")"
   ]
  },
  {
   "cell_type": "markdown",
   "metadata": {},
   "source": [
    "Activate packages"
   ]
  },
  {
   "cell_type": "code",
   "execution_count": null,
   "metadata": {
    "colab": {
     "base_uri": "https://localhost:8080/"
    },
    "id": "eozqXErxkh2A",
    "outputId": "6a6049bd-f025-4461-e3d6-13543fdc6a3b"
   },
   "outputs": [
    {
     "name": "stderr",
     "output_type": "stream",
     "text": [
      "R[write to console]: Loading required package: xts\n",
      "\n",
      "R[write to console]: Loading required package: zoo\n",
      "\n",
      "R[write to console]: \n",
      "Attaching package: ‘zoo’\n",
      "\n",
      "\n",
      "R[write to console]: The following objects are masked from ‘package:base’:\n",
      "\n",
      "    as.Date, as.Date.numeric\n",
      "\n",
      "\n",
      "R[write to console]: Loading required package: TTR\n",
      "\n",
      "R[write to console]: Registered S3 method overwritten by 'quantmod':\n",
      "  method            from\n",
      "  as.zoo.data.frame zoo \n",
      "\n",
      "R[write to console]: \n",
      "Attaching package: ‘lubridate’\n",
      "\n",
      "\n",
      "R[write to console]: The following objects are masked from ‘package:base’:\n",
      "\n",
      "    date, intersect, setdiff, union\n",
      "\n",
      "\n"
     ]
    }
   ],
   "source": [
    "%%R\n",
    "library(quantmod)\n",
    "library(lubridate)\n",
    "library(jsonlite)"
   ]
  },
  {
   "cell_type": "markdown",
   "metadata": {
    "id": "CFFFunyhfv1M"
   },
   "source": [
    "Define stock tickers and names of companies listed on WIG20 index"
   ]
  },
  {
   "cell_type": "code",
   "execution_count": null,
   "metadata": {
    "id": "m1SgKF-Lfus9"
   },
   "outputs": [],
   "source": [
    "%%R\n",
    "stock_symbols <- c(\"ALE.WA\", \"ALR.WA\", \"CCC.WA\", \"CDR.WA\",\n",
    "                   \"CPS.WA\", \"DNP.WA\", \"JSW.WA\", \"KGH.WA\",\n",
    "                   \"LPP.WA\", \"LTS.WA\", \"MRC.WA\", \"OPL.WA\",\n",
    "                   \"PEO.WA\", \"PGE.WA\", \"PGN.WA\", \"PKN.WA\",\n",
    "                   \"PKO.WA\", \"PZU.WA\",  \"SPL.WA\", \"TPE.WA\")\n",
    "Stock_names <- c(\"Allegro\", \"Alior Bank\" , \"CCC\", \"CD Projekt\",\n",
    "                 \"Cyfrowy Polsat\", \"Dino Polska\", \"JSW\", \"KGHM\",\n",
    "                 \"LPP SA\", \"Grupa LOTOS\", \"Mercator Medical\", \"Orange Polska\",\n",
    "                 \"Pekao\", \"PGE\", \"PGNiG\", \"Orlen\", \n",
    "                 \"PKO\", \"PZU\",  \"Santander Bank\", \"Tauron\")"
   ]
  },
  {
   "cell_type": "markdown",
   "metadata": {
    "id": "j9N1aP1Of_Id"
   },
   "source": [
    "Retrieve last quotes"
   ]
  },
  {
   "cell_type": "code",
   "execution_count": null,
   "metadata": {
    "id": "sLgxed03f8zI"
   },
   "outputs": [],
   "source": [
    "%%R\n",
    "wig_lastest_v <- getQuote(stock_symbols, \n",
    "                          src = \"yahoo\")$Last"
   ]
  },
  {
   "cell_type": "code",
   "execution_count": null,
   "metadata": {
    "colab": {
     "base_uri": "https://localhost:8080/"
    },
    "id": "Q6Ote55eKMi5",
    "outputId": "e5be8c50-8c43-42c9-c731-c820a8f2c116"
   },
   "outputs": [
    {
     "name": "stdout",
     "output_type": "stream",
     "text": [
      " [1]    23.155    33.070    51.860   106.860    21.100   312.500    68.420\n",
      " [8]   148.200 10190.000    76.500    59.280     6.154    92.100    10.495\n",
      "[15]     5.978    74.860    31.440    31.620   255.600     3.325\n"
     ]
    }
   ],
   "source": [
    "%%R\n",
    "wig_lastest_v"
   ]
  },
  {
   "cell_type": "markdown",
   "metadata": {
    "id": "IkUm7aC9gU0W"
   },
   "source": [
    "Retrieve prices of previous day"
   ]
  },
  {
   "cell_type": "code",
   "execution_count": null,
   "metadata": {
    "colab": {
     "base_uri": "https://localhost:8080/"
    },
    "id": "oAq5FibmfzMa",
    "outputId": "3aad78c6-2fd6-4e02-da38-2f40d38007fd"
   },
   "outputs": [
    {
     "name": "stderr",
     "output_type": "stream",
     "text": [
      "R[write to console]: pausing 1 second between requests for more than 5 symbols\n",
      "\n",
      "R[write to console]: pausing 1 second between requests for more than 5 symbols\n",
      "\n",
      "R[write to console]: pausing 1 second between requests for more than 5 symbols\n",
      "\n",
      "R[write to console]: pausing 1 second between requests for more than 5 symbols\n",
      "\n",
      "R[write to console]: pausing 1 second between requests for more than 5 symbols\n",
      "\n",
      "R[write to console]: pausing 1 second between requests for more than 5 symbols\n",
      "\n",
      "R[write to console]: pausing 1 second between requests for more than 5 symbols\n",
      "\n",
      "R[write to console]: pausing 1 second between requests for more than 5 symbols\n",
      "\n",
      "R[write to console]: pausing 1 second between requests for more than 5 symbols\n",
      "\n",
      "R[write to console]: pausing 1 second between requests for more than 5 symbols\n",
      "\n",
      "R[write to console]: pausing 1 second between requests for more than 5 symbols\n",
      "\n",
      "R[write to console]: pausing 1 second between requests for more than 5 symbols\n",
      "\n",
      "R[write to console]: pausing 1 second between requests for more than 5 symbols\n",
      "\n",
      "R[write to console]: pausing 1 second between requests for more than 5 symbols\n",
      "\n",
      "R[write to console]: pausing 1 second between requests for more than 5 symbols\n",
      "\n",
      "R[write to console]: pausing 1 second between requests for more than 5 symbols\n",
      "\n"
     ]
    }
   ],
   "source": [
    "%%R\n",
    "wig_previousday_e <- new.env()\n",
    "wig_previousday_v <- c()\n",
    "\n",
    "#Previous day - date correction\n",
    "pd_correction <- 1\n",
    "\n",
    "if (wday(Sys.Date(), week_start = 1) == 6){\n",
    "  pd_correction <- 2\n",
    "} else if (wday(Sys.Date(), week_start = 1) == 7){\n",
    "  pd_correction <- 3\n",
    "} else if (wday(Sys.Date(), week_start = 1) == 1){\n",
    "  pd_correction <- 3\n",
    "} else {\n",
    "  pd_correction <- 1\n",
    "}\n",
    "\n",
    "pd_timecorrection <- 0\n",
    "if(as.numeric(substr(x = Sys.time(), start = 12, stop = 13)) >= 0 &  as.numeric(substr(x = Sys.time(), start = 12, stop = 13)) <= 9){\n",
    "  pd_timecorrection <- 1\n",
    "} else {\n",
    "  pd_timecorrection <- 0\n",
    "}\n",
    "\n",
    "\n",
    "date_pd <- Sys.Date() - pd_correction - pd_timecorrection\n",
    "\n",
    "#Previous day - retrieve data\n",
    "\n",
    "getSymbols(stock_symbols, \n",
    "           src = \"yahoo\", \n",
    "           from = date_pd,\n",
    "           to = date_pd + 1,\n",
    "           periodicity = \"daily\",\n",
    "           env = wig_previousday_e)\n",
    "\n",
    "for(i in 1:length(stock_symbols)){\n",
    "  wig_previousday_v <- cbind(wig_previousday_v, as.list(wig_previousday_e)[order(names(as.list(wig_previousday_e)))][[i]][[4]]) \n",
    "}"
   ]
  },
  {
   "cell_type": "markdown",
   "metadata": {
    "id": "cl9jDdqugjNz"
   },
   "source": [
    "Retrieve price from week ago (7 days)"
   ]
  },
  {
   "cell_type": "code",
   "execution_count": null,
   "metadata": {
    "colab": {
     "base_uri": "https://localhost:8080/"
    },
    "id": "G8mk13HsgvKw",
    "outputId": "513fe6bf-886b-4a3d-99de-1bf111477e1d"
   },
   "outputs": [
    {
     "name": "stderr",
     "output_type": "stream",
     "text": [
      "R[write to console]: pausing 1 second between requests for more than 5 symbols\n",
      "\n",
      "R[write to console]: pausing 1 second between requests for more than 5 symbols\n",
      "\n",
      "R[write to console]: pausing 1 second between requests for more than 5 symbols\n",
      "\n",
      "R[write to console]: pausing 1 second between requests for more than 5 symbols\n",
      "\n",
      "R[write to console]: pausing 1 second between requests for more than 5 symbols\n",
      "\n",
      "R[write to console]: pausing 1 second between requests for more than 5 symbols\n",
      "\n",
      "R[write to console]: pausing 1 second between requests for more than 5 symbols\n",
      "\n",
      "R[write to console]: pausing 1 second between requests for more than 5 symbols\n",
      "\n",
      "R[write to console]: pausing 1 second between requests for more than 5 symbols\n",
      "\n",
      "R[write to console]: pausing 1 second between requests for more than 5 symbols\n",
      "\n",
      "R[write to console]: pausing 1 second between requests for more than 5 symbols\n",
      "\n",
      "R[write to console]: pausing 1 second between requests for more than 5 symbols\n",
      "\n",
      "R[write to console]: pausing 1 second between requests for more than 5 symbols\n",
      "\n",
      "R[write to console]: pausing 1 second between requests for more than 5 symbols\n",
      "\n",
      "R[write to console]: pausing 1 second between requests for more than 5 symbols\n",
      "\n",
      "R[write to console]: pausing 1 second between requests for more than 5 symbols\n",
      "\n"
     ]
    }
   ],
   "source": [
    "%%R\n",
    "\n",
    "### Week ago - prices\n",
    "wig_weekago_e <- new.env()\n",
    "wig_weekago_v <- c()\n",
    "\n",
    "#Week ago - date correction\n",
    "date_weekago_correction <- 0\n",
    "\n",
    "if (wday(Sys.Date() - 7, week_start = 1) == 6){\n",
    "  date_weekago_correction <- 1\n",
    "} else if (wday(Sys.Date() - 7, week_start = 1) == 7){\n",
    "  date_weekago_correction <- 2\n",
    "}  else {\n",
    "  date_weekago_correction <- 0\n",
    "}\n",
    "\n",
    "date_weekago <- Sys.Date() - 7 - date_weekago_correction\n",
    "\n",
    "#Week ago - retrieve data\n",
    "\n",
    "getSymbols(stock_symbols, \n",
    "           src = \"yahoo\", \n",
    "           from = date_weekago,\n",
    "           to = date_weekago + 1,\n",
    "           periodicity = \"daily\",\n",
    "           env = wig_weekago_e)\n",
    "\n",
    "for(i in 1:length(stock_symbols)){\n",
    "  wig_weekago_v <- cbind(wig_weekago_v, as.list(wig_weekago_e)[order(names(as.list(wig_weekago_e)))][[i]][[4]]) \n",
    "}\n"
   ]
  },
  {
   "cell_type": "markdown",
   "metadata": {
    "id": "5VyMCYLeg4r7"
   },
   "source": [
    "Retrieve prices 1 month ago"
   ]
  },
  {
   "cell_type": "code",
   "execution_count": null,
   "metadata": {
    "colab": {
     "base_uri": "https://localhost:8080/"
    },
    "id": "BfSstti2hAYu",
    "outputId": "83da5fe7-720e-4845-d4ff-8da7fee1c9de"
   },
   "outputs": [
    {
     "name": "stderr",
     "output_type": "stream",
     "text": [
      "R[write to console]: pausing 1 second between requests for more than 5 symbols\n",
      "\n",
      "R[write to console]: pausing 1 second between requests for more than 5 symbols\n",
      "\n",
      "R[write to console]: pausing 1 second between requests for more than 5 symbols\n",
      "\n",
      "R[write to console]: pausing 1 second between requests for more than 5 symbols\n",
      "\n",
      "R[write to console]: pausing 1 second between requests for more than 5 symbols\n",
      "\n",
      "R[write to console]: pausing 1 second between requests for more than 5 symbols\n",
      "\n",
      "R[write to console]: pausing 1 second between requests for more than 5 symbols\n",
      "\n",
      "R[write to console]: pausing 1 second between requests for more than 5 symbols\n",
      "\n",
      "R[write to console]: pausing 1 second between requests for more than 5 symbols\n",
      "\n",
      "R[write to console]: pausing 1 second between requests for more than 5 symbols\n",
      "\n",
      "R[write to console]: pausing 1 second between requests for more than 5 symbols\n",
      "\n",
      "R[write to console]: pausing 1 second between requests for more than 5 symbols\n",
      "\n",
      "R[write to console]: pausing 1 second between requests for more than 5 symbols\n",
      "\n",
      "R[write to console]: pausing 1 second between requests for more than 5 symbols\n",
      "\n",
      "R[write to console]: pausing 1 second between requests for more than 5 symbols\n",
      "\n",
      "R[write to console]: pausing 1 second between requests for more than 5 symbols\n",
      "\n"
     ]
    }
   ],
   "source": [
    "%%R\n",
    "\n",
    "### Month ago - prices\n",
    "wig_monthago_e <- new.env()\n",
    "wig_monthago_v <- c()\n",
    "\n",
    "# Month ago - date correction\n",
    "date_monthago_correction <- 0\n",
    "\n",
    "if (wday(Sys.Date() - 30, week_start = 1) == 6){\n",
    "  date_monthago_correction <- 1\n",
    "} else if (wday(Sys.Date() - 30, week_start = 1) == 7){\n",
    "  date_monthago_correction <- 2\n",
    "}  else {\n",
    "  date_monthago_correction <- 0\n",
    "}\n",
    "\n",
    "date_monthago <- Sys.Date() - 30 - date_monthago_correction\n",
    "\n",
    "#Month ago - retrieve data\n",
    "\n",
    "getSymbols(stock_symbols, \n",
    "           src = \"yahoo\", \n",
    "           from = date_monthago,\n",
    "           to = date_monthago + 1,\n",
    "           periodicity = \"daily\",\n",
    "           env = wig_monthago_e)\n",
    "\n",
    "for(i in 1:length(stock_symbols)){\n",
    "  wig_monthago_v <- cbind(wig_monthago_v, as.list(wig_monthago_e)[order(names(as.list(wig_monthago_e)))][[i]][[4]]) \n",
    "}"
   ]
  },
  {
   "cell_type": "markdown",
   "metadata": {
    "id": "Sia8OwHAg9nm"
   },
   "source": [
    "Retrieve prices 1 year ago"
   ]
  },
  {
   "cell_type": "code",
   "execution_count": null,
   "metadata": {
    "colab": {
     "base_uri": "https://localhost:8080/"
    },
    "id": "tTKeOSvYhMSF",
    "outputId": "a1d96fae-7614-4c53-a57b-3f4db0b6ca90"
   },
   "outputs": [
    {
     "name": "stderr",
     "output_type": "stream",
     "text": [
      "R[write to console]: pausing 1 second between requests for more than 5 symbols\n",
      "\n",
      "R[write to console]: pausing 1 second between requests for more than 5 symbols\n",
      "\n",
      "R[write to console]: pausing 1 second between requests for more than 5 symbols\n",
      "\n",
      "R[write to console]: pausing 1 second between requests for more than 5 symbols\n",
      "\n",
      "R[write to console]: pausing 1 second between requests for more than 5 symbols\n",
      "\n",
      "R[write to console]: pausing 1 second between requests for more than 5 symbols\n",
      "\n",
      "R[write to console]: pausing 1 second between requests for more than 5 symbols\n",
      "\n",
      "R[write to console]: pausing 1 second between requests for more than 5 symbols\n",
      "\n",
      "R[write to console]: pausing 1 second between requests for more than 5 symbols\n",
      "\n",
      "R[write to console]: pausing 1 second between requests for more than 5 symbols\n",
      "\n",
      "R[write to console]: pausing 1 second between requests for more than 5 symbols\n",
      "\n",
      "R[write to console]: pausing 1 second between requests for more than 5 symbols\n",
      "\n",
      "R[write to console]: pausing 1 second between requests for more than 5 symbols\n",
      "\n",
      "R[write to console]: pausing 1 second between requests for more than 5 symbols\n",
      "\n",
      "R[write to console]: pausing 1 second between requests for more than 5 symbols\n",
      "\n",
      "R[write to console]: pausing 1 second between requests for more than 5 symbols\n",
      "\n"
     ]
    }
   ],
   "source": [
    "%%R\n",
    "\n",
    "### Year ago - prices\n",
    "wig_yearago_e <- new.env()\n",
    "wig_yearago_v <- c()\n",
    "\n",
    "# Year ago - date correction\n",
    "date_yearago_correction <- 0\n",
    "\n",
    "if (wday(Sys.Date() - 365, week_start = 1) == 6){\n",
    "  date_yearago_correction <- 1\n",
    "} else if (wday(Sys.Date() - 365, week_start = 1) == 7){\n",
    "  date_yearago_correction <- 2\n",
    "}  else {\n",
    "  date_yearago_correction <- 0\n",
    "}\n",
    "\n",
    "date_yearago <- Sys.Date() - 365 - date_yearago_correction\n",
    "\n",
    "\n",
    "getSymbols(stock_symbols, \n",
    "           src = \"yahoo\", \n",
    "           from = date_yearago,\n",
    "           to = date_yearago + 1,\n",
    "           periodicity = \"daily\",\n",
    "           env = wig_yearago_e)\n",
    "\n",
    "for(i in 1:length(stock_symbols)){\n",
    "  wig_yearago_v <- cbind(wig_yearago_v, as.list(wig_yearago_e)[order(names(as.list(wig_yearago_e)))][[i]][[4]]) \n",
    "}"
   ]
  },
  {
   "cell_type": "markdown",
   "metadata": {
    "id": "9-NhdX1cjPOr"
   },
   "source": [
    "Create dataframe with all prices"
   ]
  },
  {
   "cell_type": "code",
   "execution_count": null,
   "metadata": {
    "colab": {
     "base_uri": "https://localhost:8080/"
    },
    "id": "Ek3K8SV-hRiI",
    "outputId": "178ddcef-4089-4b04-c387-3466cfd493c4"
   },
   "outputs": [
    {
     "name": "stdout",
     "output_type": "stream",
     "text": [
      "                 Latest price Price previous day Price 1 week ago\n",
      "Allegro                 23.16              22.89            25.03\n",
      "Alior Bank              33.07              32.80            34.00\n",
      "CCC                     51.86              50.74            51.60\n",
      "CD Projekt             106.86             104.20           113.10\n",
      "Cyfrowy Polsat          21.10              21.26            22.06\n",
      "Dino Polska            312.50             314.10           297.30\n",
      "JSW                     68.42              65.80            67.50\n",
      "KGHM                   148.20             145.55           146.55\n",
      "LPP SA               10190.00           10250.00         10370.00\n",
      "Grupa LOTOS             76.50              75.80            69.42\n",
      "Mercator Medical        59.28              59.50            63.46\n",
      "Orange Polska            6.15               6.13             6.06\n",
      "Pekao                   92.10              90.74            94.32\n",
      "PGE                     10.49              10.57            10.37\n",
      "PGNiG                    5.98               5.97             6.33\n",
      "Orlen                   74.86              73.00            72.90\n",
      "PKO                     31.44              30.89            32.39\n",
      "PZU                     31.62              30.96            32.90\n",
      "Santander Bank         255.60             255.00           258.40\n",
      "Tauron                   3.33               3.29             3.41\n",
      "                 Price 1 month ago Price 1 year ago\n",
      "Allegro                      21.95            58.77\n",
      "Alior Bank                   32.00            34.75\n",
      "CCC                          46.31           116.55\n",
      "CD Projekt                  117.74           171.20\n",
      "Cyfrowy Polsat               23.44            30.72\n",
      "Dino Polska                 277.00           286.60\n",
      "JSW                          66.42            35.60\n",
      "KGHM                        127.95           204.30\n",
      "LPP SA                     8595.00         10980.00\n",
      "Grupa LOTOS                  70.54            53.42\n",
      "Mercator Medical             74.46           246.50\n",
      "Orange Polska                 6.28             6.82\n",
      "Pekao                        90.48            97.40\n",
      "PGE                           9.28            10.68\n",
      "PGNiG                         6.30             6.54\n",
      "Orlen                        74.90            81.54\n",
      "PKO                          30.82            40.40\n",
      "PZU                          30.09            38.21\n",
      "Santander Bank              247.00           273.70\n",
      "Tauron                        3.28             3.66\n"
     ]
    }
   ],
   "source": [
    "%%R\n",
    "wig_prices <- as.data.frame(rbind(wig_lastest_v, wig_previousday_v, wig_weekago_v, wig_monthago_v, wig_yearago_v))\n",
    "names(wig_prices) <- Stock_names\n",
    "rownames(wig_prices) <- c(\"Latest price\" ,\"Price previous day\", \"Price 1 week ago\", \"Price 1 month ago\", \"Price 1 year ago\")\n",
    "wig_prices <- t(round(wig_prices, 2))\n",
    "wig_prices"
   ]
  },
  {
   "cell_type": "markdown",
   "metadata": {
    "id": "oE-cu_qIjHtt"
   },
   "source": [
    "Calculate daily, weekly, monthly and yearly performance"
   ]
  },
  {
   "cell_type": "code",
   "execution_count": null,
   "metadata": {
    "colab": {
     "base_uri": "https://localhost:8080/"
    },
    "id": "NnstRPlbhmZi",
    "outputId": "78fa8ba1-4b2e-4cee-a102-98eb00c3e0e4"
   },
   "outputs": [
    {
     "name": "stdout",
     "output_type": "stream",
     "text": [
      "                 Daily return Weekly return Monthly return Yearly return\n",
      "Allegro                0.0118       -0.0747         0.0551       -0.6059\n",
      "Alior Bank             0.0082       -0.0274         0.0334       -0.0483\n",
      "CCC                    0.0221        0.0050         0.1198       -0.5550\n",
      "CD Projekt             0.0255       -0.0552        -0.0924       -0.3758\n",
      "Cyfrowy Polsat        -0.0075       -0.0435        -0.0998       -0.3132\n",
      "Dino Polska           -0.0051        0.0511         0.1282        0.0904\n",
      "JSW                    0.0398        0.0136         0.0301        0.9219\n",
      "KGHM                   0.0182        0.0113         0.1583       -0.2746\n",
      "LPP SA                -0.0059       -0.0174         0.1856       -0.0719\n",
      "Grupa LOTOS            0.0092        0.1020         0.0845        0.4320\n",
      "Mercator Medical      -0.0037       -0.0659        -0.2039       -0.7595\n",
      "Orange Polska          0.0033        0.0149        -0.0207       -0.0982\n",
      "Pekao                  0.0150       -0.0235         0.0179       -0.0544\n",
      "PGE                   -0.0076        0.0116         0.1304       -0.0178\n",
      "PGNiG                  0.0017       -0.0553        -0.0508       -0.0856\n",
      "Orlen                  0.0255        0.0269        -0.0005       -0.0819\n",
      "PKO                    0.0178       -0.0293         0.0201       -0.2218\n",
      "PZU                    0.0213       -0.0389         0.0508       -0.1725\n",
      "Santander Bank         0.0024       -0.0108         0.0348       -0.0661\n",
      "Tauron                 0.0122       -0.0235         0.0152       -0.0902\n"
     ]
    }
   ],
   "source": [
    "%%R\n",
    "wig_returns <- round(apply(wig_prices[,-1], MARGIN = 2, function(x) (wig_prices[,1]/x)-1), 4)\n",
    "colnames(wig_returns) <- c(\"Daily return\", \"Weekly return\", \"Monthly return\", \"Yearly return\")\n",
    "wig_returns"
   ]
  },
  {
   "cell_type": "code",
   "execution_count": null,
   "metadata": {
    "id": "IWfazCXWhspp"
   },
   "outputs": [],
   "source": [
    "%%R\n",
    "#Daily performers - top 5 and worse 5\n",
    "daily_top5 <- wig_returns[order(wig_returns[, 1],decreasing = TRUE), 1][1:5]\n",
    "daily_worse5 <- wig_returns[order(wig_returns[, 1],decreasing = FALSE), 1][1:5]\n",
    "\n",
    "#Weekly performers - top 5 and worse 5\n",
    "weekly_top5 <- wig_returns[order(wig_returns[, 2],decreasing = TRUE), 2][1:5]\n",
    "weekly_worse5 <- wig_returns[order(wig_returns[, 2],decreasing = FALSE), 2][1:5]\n",
    "\n",
    "#Monthly performers - top 5 and worse 5\n",
    "monthly_top5 <- wig_returns[order(wig_returns[, 3],decreasing = TRUE), 3][1:5]\n",
    "monthly_worse5 <- wig_returns[order(wig_returns[, 3],decreasing = FALSE), 3][1:5]\n",
    "\n",
    "#Yearly performers - top 5 and worse 5\n",
    "yearly_top5 <- wig_returns[order(wig_returns[, 4],decreasing = TRUE), 4][1:5]\n",
    "yearly_worse5 <- wig_returns[order(wig_returns[, 4],decreasing = FALSE), 4][1:5]\n"
   ]
  },
  {
   "cell_type": "markdown",
   "metadata": {
    "id": "N9Omy70N1S5E"
   },
   "source": [
    "Convert R data objects to python"
   ]
  },
  {
   "cell_type": "code",
   "execution_count": null,
   "metadata": {
    "id": "jBDeEvttv9f-"
   },
   "outputs": [],
   "source": [
    "import pandas as pd"
   ]
  },
  {
   "cell_type": "code",
   "execution_count": null,
   "metadata": {
    "id": "WOiI_9dsRj79"
   },
   "outputs": [],
   "source": [
    "import matplotlib.pyplot as plt\n",
    "import numpy as np"
   ]
  },
  {
   "cell_type": "code",
   "execution_count": 3,
   "metadata": {
    "id": "kgAzq9psv-w2"
   },
   "outputs": [
    {
     "name": "stderr",
     "output_type": "stream",
     "text": [
      "UsageError: Line magic function `%R` not found.\n"
     ]
    }
   ],
   "source": [
    "wig20_prices = %R wig_prices\n",
    "wig20_prices = pd.DataFrame(wig20_prices, \n",
    "                            columns = [\"Latest price\" ,\"Price previous day\", \"Price 1 week ago\", \"Price 1 month ago\", \"Price 1 year ago\"],\n",
    "                            index = [\"Allegro\", \"Alior Bank\" , \"CCC\", \"CD Projekt\",\n",
    "                                    \"Cyfrowy Polsat\", \"Dino Polska\", \"JSW\", \"KGHM\",\n",
    "                                    \"LPP SA\", \"Grupa LOTOS\", \"Mercator Medical\", \"Orange Polska\",\n",
    "                                    \"Pekao\", \"PGE\", \"PGNiG\", \"Orlen\", \n",
    "                                    \"PKO\", \"PZU\",  \"Santander Bank\", \"Tauron\"])"
   ]
  },
  {
   "cell_type": "code",
   "execution_count": null,
   "metadata": {
    "colab": {
     "base_uri": "https://localhost:8080/",
     "height": 676
    },
    "id": "Q_yCQFysw-Ld",
    "outputId": "0566af04-7b72-4205-d423-b02856ca1eed"
   },
   "outputs": [
    {
     "data": {
      "text/html": [
       "\n",
       "  <div id=\"df-9e46a9c4-76ad-447c-843b-8e141e1e4c2b\">\n",
       "    <div class=\"colab-df-container\">\n",
       "      <div>\n",
       "<style scoped>\n",
       "    .dataframe tbody tr th:only-of-type {\n",
       "        vertical-align: middle;\n",
       "    }\n",
       "\n",
       "    .dataframe tbody tr th {\n",
       "        vertical-align: top;\n",
       "    }\n",
       "\n",
       "    .dataframe thead th {\n",
       "        text-align: right;\n",
       "    }\n",
       "</style>\n",
       "<table border=\"1\" class=\"dataframe\">\n",
       "  <thead>\n",
       "    <tr style=\"text-align: right;\">\n",
       "      <th></th>\n",
       "      <th>Latest price</th>\n",
       "      <th>Price previous day</th>\n",
       "      <th>Price 1 week ago</th>\n",
       "      <th>Price 1 month ago</th>\n",
       "      <th>Price 1 year ago</th>\n",
       "    </tr>\n",
       "  </thead>\n",
       "  <tbody>\n",
       "    <tr>\n",
       "      <th>Allegro</th>\n",
       "      <td>23.16</td>\n",
       "      <td>22.89</td>\n",
       "      <td>25.03</td>\n",
       "      <td>21.95</td>\n",
       "      <td>58.77</td>\n",
       "    </tr>\n",
       "    <tr>\n",
       "      <th>Alior Bank</th>\n",
       "      <td>33.07</td>\n",
       "      <td>32.80</td>\n",
       "      <td>34.00</td>\n",
       "      <td>32.00</td>\n",
       "      <td>34.75</td>\n",
       "    </tr>\n",
       "    <tr>\n",
       "      <th>CCC</th>\n",
       "      <td>51.86</td>\n",
       "      <td>50.74</td>\n",
       "      <td>51.60</td>\n",
       "      <td>46.31</td>\n",
       "      <td>116.55</td>\n",
       "    </tr>\n",
       "    <tr>\n",
       "      <th>CD Projekt</th>\n",
       "      <td>106.86</td>\n",
       "      <td>104.20</td>\n",
       "      <td>113.10</td>\n",
       "      <td>117.74</td>\n",
       "      <td>171.20</td>\n",
       "    </tr>\n",
       "    <tr>\n",
       "      <th>Cyfrowy Polsat</th>\n",
       "      <td>21.10</td>\n",
       "      <td>21.26</td>\n",
       "      <td>22.06</td>\n",
       "      <td>23.44</td>\n",
       "      <td>30.72</td>\n",
       "    </tr>\n",
       "    <tr>\n",
       "      <th>Dino Polska</th>\n",
       "      <td>312.50</td>\n",
       "      <td>314.10</td>\n",
       "      <td>297.30</td>\n",
       "      <td>277.00</td>\n",
       "      <td>286.60</td>\n",
       "    </tr>\n",
       "    <tr>\n",
       "      <th>JSW</th>\n",
       "      <td>68.42</td>\n",
       "      <td>65.80</td>\n",
       "      <td>67.50</td>\n",
       "      <td>66.42</td>\n",
       "      <td>35.60</td>\n",
       "    </tr>\n",
       "    <tr>\n",
       "      <th>KGHM</th>\n",
       "      <td>148.20</td>\n",
       "      <td>145.55</td>\n",
       "      <td>146.55</td>\n",
       "      <td>127.95</td>\n",
       "      <td>204.30</td>\n",
       "    </tr>\n",
       "    <tr>\n",
       "      <th>LPP SA</th>\n",
       "      <td>10190.00</td>\n",
       "      <td>10250.00</td>\n",
       "      <td>10370.00</td>\n",
       "      <td>8595.00</td>\n",
       "      <td>10980.00</td>\n",
       "    </tr>\n",
       "    <tr>\n",
       "      <th>Grupa LOTOS</th>\n",
       "      <td>76.50</td>\n",
       "      <td>75.80</td>\n",
       "      <td>69.42</td>\n",
       "      <td>70.54</td>\n",
       "      <td>53.42</td>\n",
       "    </tr>\n",
       "    <tr>\n",
       "      <th>Mercator Medical</th>\n",
       "      <td>59.28</td>\n",
       "      <td>59.50</td>\n",
       "      <td>63.46</td>\n",
       "      <td>74.46</td>\n",
       "      <td>246.50</td>\n",
       "    </tr>\n",
       "    <tr>\n",
       "      <th>Orange Polska</th>\n",
       "      <td>6.15</td>\n",
       "      <td>6.13</td>\n",
       "      <td>6.06</td>\n",
       "      <td>6.28</td>\n",
       "      <td>6.82</td>\n",
       "    </tr>\n",
       "    <tr>\n",
       "      <th>Pekao</th>\n",
       "      <td>92.10</td>\n",
       "      <td>90.74</td>\n",
       "      <td>94.32</td>\n",
       "      <td>90.48</td>\n",
       "      <td>97.40</td>\n",
       "    </tr>\n",
       "    <tr>\n",
       "      <th>PGE</th>\n",
       "      <td>10.49</td>\n",
       "      <td>10.57</td>\n",
       "      <td>10.37</td>\n",
       "      <td>9.28</td>\n",
       "      <td>10.68</td>\n",
       "    </tr>\n",
       "    <tr>\n",
       "      <th>PGNiG</th>\n",
       "      <td>5.98</td>\n",
       "      <td>5.97</td>\n",
       "      <td>6.33</td>\n",
       "      <td>6.30</td>\n",
       "      <td>6.54</td>\n",
       "    </tr>\n",
       "    <tr>\n",
       "      <th>Orlen</th>\n",
       "      <td>74.86</td>\n",
       "      <td>73.00</td>\n",
       "      <td>72.90</td>\n",
       "      <td>74.90</td>\n",
       "      <td>81.54</td>\n",
       "    </tr>\n",
       "    <tr>\n",
       "      <th>PKO</th>\n",
       "      <td>31.44</td>\n",
       "      <td>30.89</td>\n",
       "      <td>32.39</td>\n",
       "      <td>30.82</td>\n",
       "      <td>40.40</td>\n",
       "    </tr>\n",
       "    <tr>\n",
       "      <th>PZU</th>\n",
       "      <td>31.62</td>\n",
       "      <td>30.96</td>\n",
       "      <td>32.90</td>\n",
       "      <td>30.09</td>\n",
       "      <td>38.21</td>\n",
       "    </tr>\n",
       "    <tr>\n",
       "      <th>Santander Bank</th>\n",
       "      <td>255.60</td>\n",
       "      <td>255.00</td>\n",
       "      <td>258.40</td>\n",
       "      <td>247.00</td>\n",
       "      <td>273.70</td>\n",
       "    </tr>\n",
       "    <tr>\n",
       "      <th>Tauron</th>\n",
       "      <td>3.33</td>\n",
       "      <td>3.29</td>\n",
       "      <td>3.41</td>\n",
       "      <td>3.28</td>\n",
       "      <td>3.66</td>\n",
       "    </tr>\n",
       "  </tbody>\n",
       "</table>\n",
       "</div>\n",
       "      <button class=\"colab-df-convert\" onclick=\"convertToInteractive('df-9e46a9c4-76ad-447c-843b-8e141e1e4c2b')\"\n",
       "              title=\"Convert this dataframe to an interactive table.\"\n",
       "              style=\"display:none;\">\n",
       "        \n",
       "  <svg xmlns=\"http://www.w3.org/2000/svg\" height=\"24px\"viewBox=\"0 0 24 24\"\n",
       "       width=\"24px\">\n",
       "    <path d=\"M0 0h24v24H0V0z\" fill=\"none\"/>\n",
       "    <path d=\"M18.56 5.44l.94 2.06.94-2.06 2.06-.94-2.06-.94-.94-2.06-.94 2.06-2.06.94zm-11 1L8.5 8.5l.94-2.06 2.06-.94-2.06-.94L8.5 2.5l-.94 2.06-2.06.94zm10 10l.94 2.06.94-2.06 2.06-.94-2.06-.94-.94-2.06-.94 2.06-2.06.94z\"/><path d=\"M17.41 7.96l-1.37-1.37c-.4-.4-.92-.59-1.43-.59-.52 0-1.04.2-1.43.59L10.3 9.45l-7.72 7.72c-.78.78-.78 2.05 0 2.83L4 21.41c.39.39.9.59 1.41.59.51 0 1.02-.2 1.41-.59l7.78-7.78 2.81-2.81c.8-.78.8-2.07 0-2.86zM5.41 20L4 18.59l7.72-7.72 1.47 1.35L5.41 20z\"/>\n",
       "  </svg>\n",
       "      </button>\n",
       "      \n",
       "  <style>\n",
       "    .colab-df-container {\n",
       "      display:flex;\n",
       "      flex-wrap:wrap;\n",
       "      gap: 12px;\n",
       "    }\n",
       "\n",
       "    .colab-df-convert {\n",
       "      background-color: #E8F0FE;\n",
       "      border: none;\n",
       "      border-radius: 50%;\n",
       "      cursor: pointer;\n",
       "      display: none;\n",
       "      fill: #1967D2;\n",
       "      height: 32px;\n",
       "      padding: 0 0 0 0;\n",
       "      width: 32px;\n",
       "    }\n",
       "\n",
       "    .colab-df-convert:hover {\n",
       "      background-color: #E2EBFA;\n",
       "      box-shadow: 0px 1px 2px rgba(60, 64, 67, 0.3), 0px 1px 3px 1px rgba(60, 64, 67, 0.15);\n",
       "      fill: #174EA6;\n",
       "    }\n",
       "\n",
       "    [theme=dark] .colab-df-convert {\n",
       "      background-color: #3B4455;\n",
       "      fill: #D2E3FC;\n",
       "    }\n",
       "\n",
       "    [theme=dark] .colab-df-convert:hover {\n",
       "      background-color: #434B5C;\n",
       "      box-shadow: 0px 1px 3px 1px rgba(0, 0, 0, 0.15);\n",
       "      filter: drop-shadow(0px 1px 2px rgba(0, 0, 0, 0.3));\n",
       "      fill: #FFFFFF;\n",
       "    }\n",
       "  </style>\n",
       "\n",
       "      <script>\n",
       "        const buttonEl =\n",
       "          document.querySelector('#df-9e46a9c4-76ad-447c-843b-8e141e1e4c2b button.colab-df-convert');\n",
       "        buttonEl.style.display =\n",
       "          google.colab.kernel.accessAllowed ? 'block' : 'none';\n",
       "\n",
       "        async function convertToInteractive(key) {\n",
       "          const element = document.querySelector('#df-9e46a9c4-76ad-447c-843b-8e141e1e4c2b');\n",
       "          const dataTable =\n",
       "            await google.colab.kernel.invokeFunction('convertToInteractive',\n",
       "                                                     [key], {});\n",
       "          if (!dataTable) return;\n",
       "\n",
       "          const docLinkHtml = 'Like what you see? Visit the ' +\n",
       "            '<a target=\"_blank\" href=https://colab.research.google.com/notebooks/data_table.ipynb>data table notebook</a>'\n",
       "            + ' to learn more about interactive tables.';\n",
       "          element.innerHTML = '';\n",
       "          dataTable['output_type'] = 'display_data';\n",
       "          await google.colab.output.renderOutput(dataTable, element);\n",
       "          const docLink = document.createElement('div');\n",
       "          docLink.innerHTML = docLinkHtml;\n",
       "          element.appendChild(docLink);\n",
       "        }\n",
       "      </script>\n",
       "    </div>\n",
       "  </div>\n",
       "  "
      ],
      "text/plain": [
       "                  Latest price  Price previous day  Price 1 week ago  \\\n",
       "Allegro                  23.16               22.89             25.03   \n",
       "Alior Bank               33.07               32.80             34.00   \n",
       "CCC                      51.86               50.74             51.60   \n",
       "CD Projekt              106.86              104.20            113.10   \n",
       "Cyfrowy Polsat           21.10               21.26             22.06   \n",
       "Dino Polska             312.50              314.10            297.30   \n",
       "JSW                      68.42               65.80             67.50   \n",
       "KGHM                    148.20              145.55            146.55   \n",
       "LPP SA                10190.00            10250.00          10370.00   \n",
       "Grupa LOTOS              76.50               75.80             69.42   \n",
       "Mercator Medical         59.28               59.50             63.46   \n",
       "Orange Polska             6.15                6.13              6.06   \n",
       "Pekao                    92.10               90.74             94.32   \n",
       "PGE                      10.49               10.57             10.37   \n",
       "PGNiG                     5.98                5.97              6.33   \n",
       "Orlen                    74.86               73.00             72.90   \n",
       "PKO                      31.44               30.89             32.39   \n",
       "PZU                      31.62               30.96             32.90   \n",
       "Santander Bank          255.60              255.00            258.40   \n",
       "Tauron                    3.33                3.29              3.41   \n",
       "\n",
       "                  Price 1 month ago  Price 1 year ago  \n",
       "Allegro                       21.95             58.77  \n",
       "Alior Bank                    32.00             34.75  \n",
       "CCC                           46.31            116.55  \n",
       "CD Projekt                   117.74            171.20  \n",
       "Cyfrowy Polsat                23.44             30.72  \n",
       "Dino Polska                  277.00            286.60  \n",
       "JSW                           66.42             35.60  \n",
       "KGHM                         127.95            204.30  \n",
       "LPP SA                      8595.00          10980.00  \n",
       "Grupa LOTOS                   70.54             53.42  \n",
       "Mercator Medical              74.46            246.50  \n",
       "Orange Polska                  6.28              6.82  \n",
       "Pekao                         90.48             97.40  \n",
       "PGE                            9.28             10.68  \n",
       "PGNiG                          6.30              6.54  \n",
       "Orlen                         74.90             81.54  \n",
       "PKO                           30.82             40.40  \n",
       "PZU                           30.09             38.21  \n",
       "Santander Bank               247.00            273.70  \n",
       "Tauron                         3.28              3.66  "
      ]
     },
     "execution_count": 17,
     "metadata": {},
     "output_type": "execute_result"
    }
   ],
   "source": [
    "wig20_prices"
   ]
  },
  {
   "cell_type": "code",
   "execution_count": null,
   "metadata": {
    "id": "m9rpdJyhBy13"
   },
   "outputs": [],
   "source": [
    "df = wig20_prices.drop('LPP SA')"
   ]
  },
  {
   "cell_type": "code",
   "execution_count": null,
   "metadata": {
    "colab": {
     "base_uri": "https://localhost:8080/",
     "height": 525
    },
    "id": "WcqunlWtBzvT",
    "outputId": "a954df4f-d1c6-4e5d-ab3b-fd34239b4bea"
   },
   "outputs": [
    {
     "data": {
      "text/plain": [
       "Text(0.5, 1.0, 'Latest share price of WIG20 companies')"
      ]
     },
     "execution_count": 19,
     "metadata": {},
     "output_type": "execute_result"
    },
    {
     "data": {
      "image/png": "[encoded data removed]",
      "text/plain": [
       "<Figure size 1080x504 with 1 Axes>"
      ]
     },
     "metadata": {
      "needs_background": "light"
     },
     "output_type": "display_data"
    }
   ],
   "source": [
    "plt.figure(figsize=(15,7))\n",
    " \n",
    "plt.bar(x=df.index,\n",
    " \n",
    "        height=df[\"Latest price\"],\n",
    " \n",
    "        color=['black', 'red', 'green', 'blue','violet', 'cyan', 'pink', 'yellow', 'orange', 'magenta', 'purple', 'navy', 'lightcoral', 'lime','indigo','powderblue', 'plum', 'tomato', 'gold'])\n",
    " \n",
    "plt.xticks(rotation=50)\n",
    "plt.title(\"Latest share price of WIG20 companies\")"
   ]
  },
  {
   "cell_type": "code",
   "execution_count": null,
   "metadata": {
    "id": "tHak71OT1nwl"
   },
   "outputs": [],
   "source": [
    "wig20_returns = %R wig_returns\n",
    "wig20_returns = pd.DataFrame(wig20_returns, \n",
    "                            columns = [\"Daily return\", \"Weekly return\", \"Monthly return\", \"Yearly return\"],\n",
    "                            index = [\"Allegro\", \"Alior Bank\" , \"CCC\", \"CD Projekt\",\n",
    "                                    \"Cyfrowy Polsat\", \"Dino Polska\", \"JSW\", \"KGHM\",\n",
    "                                    \"LPP SA\", \"Grupa LOTOS\", \"Mercator Medical\", \"Orange Polska\",\n",
    "                                    \"Pekao\", \"PGE\", \"PGNiG\", \"Orlen\", \n",
    "                                    \"PKO\", \"PZU\",  \"Santander Bank\", \"Tauron\"])"
   ]
  },
  {
   "cell_type": "code",
   "execution_count": null,
   "metadata": {
    "colab": {
     "base_uri": "https://localhost:8080/",
     "height": 676
    },
    "id": "O0QYQ8l-2FVy",
    "outputId": "5ac6df4b-82df-490a-bf2b-d5e0f50c9795"
   },
   "outputs": [
    {
     "data": {
      "text/html": [
       "\n",
       "  <div id=\"df-7d31083d-5878-4a9d-9247-f0c14de17752\">\n",
       "    <div class=\"colab-df-container\">\n",
       "      <div>\n",
       "<style scoped>\n",
       "    .dataframe tbody tr th:only-of-type {\n",
       "        vertical-align: middle;\n",
       "    }\n",
       "\n",
       "    .dataframe tbody tr th {\n",
       "        vertical-align: top;\n",
       "    }\n",
       "\n",
       "    .dataframe thead th {\n",
       "        text-align: right;\n",
       "    }\n",
       "</style>\n",
       "<table border=\"1\" class=\"dataframe\">\n",
       "  <thead>\n",
       "    <tr style=\"text-align: right;\">\n",
       "      <th></th>\n",
       "      <th>Daily return</th>\n",
       "      <th>Weekly return</th>\n",
       "      <th>Monthly return</th>\n",
       "      <th>Yearly return</th>\n",
       "    </tr>\n",
       "  </thead>\n",
       "  <tbody>\n",
       "    <tr>\n",
       "      <th>Allegro</th>\n",
       "      <td>0.0118</td>\n",
       "      <td>-0.0747</td>\n",
       "      <td>0.0551</td>\n",
       "      <td>-0.6059</td>\n",
       "    </tr>\n",
       "    <tr>\n",
       "      <th>Alior Bank</th>\n",
       "      <td>0.0082</td>\n",
       "      <td>-0.0274</td>\n",
       "      <td>0.0334</td>\n",
       "      <td>-0.0483</td>\n",
       "    </tr>\n",
       "    <tr>\n",
       "      <th>CCC</th>\n",
       "      <td>0.0221</td>\n",
       "      <td>0.0050</td>\n",
       "      <td>0.1198</td>\n",
       "      <td>-0.5550</td>\n",
       "    </tr>\n",
       "    <tr>\n",
       "      <th>CD Projekt</th>\n",
       "      <td>0.0255</td>\n",
       "      <td>-0.0552</td>\n",
       "      <td>-0.0924</td>\n",
       "      <td>-0.3758</td>\n",
       "    </tr>\n",
       "    <tr>\n",
       "      <th>Cyfrowy Polsat</th>\n",
       "      <td>-0.0075</td>\n",
       "      <td>-0.0435</td>\n",
       "      <td>-0.0998</td>\n",
       "      <td>-0.3132</td>\n",
       "    </tr>\n",
       "    <tr>\n",
       "      <th>Dino Polska</th>\n",
       "      <td>-0.0051</td>\n",
       "      <td>0.0511</td>\n",
       "      <td>0.1282</td>\n",
       "      <td>0.0904</td>\n",
       "    </tr>\n",
       "    <tr>\n",
       "      <th>JSW</th>\n",
       "      <td>0.0398</td>\n",
       "      <td>0.0136</td>\n",
       "      <td>0.0301</td>\n",
       "      <td>0.9219</td>\n",
       "    </tr>\n",
       "    <tr>\n",
       "      <th>KGHM</th>\n",
       "      <td>0.0182</td>\n",
       "      <td>0.0113</td>\n",
       "      <td>0.1583</td>\n",
       "      <td>-0.2746</td>\n",
       "    </tr>\n",
       "    <tr>\n",
       "      <th>LPP SA</th>\n",
       "      <td>-0.0059</td>\n",
       "      <td>-0.0174</td>\n",
       "      <td>0.1856</td>\n",
       "      <td>-0.0719</td>\n",
       "    </tr>\n",
       "    <tr>\n",
       "      <th>Grupa LOTOS</th>\n",
       "      <td>0.0092</td>\n",
       "      <td>0.1020</td>\n",
       "      <td>0.0845</td>\n",
       "      <td>0.4320</td>\n",
       "    </tr>\n",
       "    <tr>\n",
       "      <th>Mercator Medical</th>\n",
       "      <td>-0.0037</td>\n",
       "      <td>-0.0659</td>\n",
       "      <td>-0.2039</td>\n",
       "      <td>-0.7595</td>\n",
       "    </tr>\n",
       "    <tr>\n",
       "      <th>Orange Polska</th>\n",
       "      <td>0.0033</td>\n",
       "      <td>0.0149</td>\n",
       "      <td>-0.0207</td>\n",
       "      <td>-0.0982</td>\n",
       "    </tr>\n",
       "    <tr>\n",
       "      <th>Pekao</th>\n",
       "      <td>0.0150</td>\n",
       "      <td>-0.0235</td>\n",
       "      <td>0.0179</td>\n",
       "      <td>-0.0544</td>\n",
       "    </tr>\n",
       "    <tr>\n",
       "      <th>PGE</th>\n",
       "      <td>-0.0076</td>\n",
       "      <td>0.0116</td>\n",
       "      <td>0.1304</td>\n",
       "      <td>-0.0178</td>\n",
       "    </tr>\n",
       "    <tr>\n",
       "      <th>PGNiG</th>\n",
       "      <td>0.0017</td>\n",
       "      <td>-0.0553</td>\n",
       "      <td>-0.0508</td>\n",
       "      <td>-0.0856</td>\n",
       "    </tr>\n",
       "    <tr>\n",
       "      <th>Orlen</th>\n",
       "      <td>0.0255</td>\n",
       "      <td>0.0269</td>\n",
       "      <td>-0.0005</td>\n",
       "      <td>-0.0819</td>\n",
       "    </tr>\n",
       "    <tr>\n",
       "      <th>PKO</th>\n",
       "      <td>0.0178</td>\n",
       "      <td>-0.0293</td>\n",
       "      <td>0.0201</td>\n",
       "      <td>-0.2218</td>\n",
       "    </tr>\n",
       "    <tr>\n",
       "      <th>PZU</th>\n",
       "      <td>0.0213</td>\n",
       "      <td>-0.0389</td>\n",
       "      <td>0.0508</td>\n",
       "      <td>-0.1725</td>\n",
       "    </tr>\n",
       "    <tr>\n",
       "      <th>Santander Bank</th>\n",
       "      <td>0.0024</td>\n",
       "      <td>-0.0108</td>\n",
       "      <td>0.0348</td>\n",
       "      <td>-0.0661</td>\n",
       "    </tr>\n",
       "    <tr>\n",
       "      <th>Tauron</th>\n",
       "      <td>0.0122</td>\n",
       "      <td>-0.0235</td>\n",
       "      <td>0.0152</td>\n",
       "      <td>-0.0902</td>\n",
       "    </tr>\n",
       "  </tbody>\n",
       "</table>\n",
       "</div>\n",
       "      <button class=\"colab-df-convert\" onclick=\"convertToInteractive('df-7d31083d-5878-4a9d-9247-f0c14de17752')\"\n",
       "              title=\"Convert this dataframe to an interactive table.\"\n",
       "              style=\"display:none;\">\n",
       "        \n",
       "  <svg xmlns=\"http://www.w3.org/2000/svg\" height=\"24px\"viewBox=\"0 0 24 24\"\n",
       "       width=\"24px\">\n",
       "    <path d=\"M0 0h24v24H0V0z\" fill=\"none\"/>\n",
       "    <path d=\"M18.56 5.44l.94 2.06.94-2.06 2.06-.94-2.06-.94-.94-2.06-.94 2.06-2.06.94zm-11 1L8.5 8.5l.94-2.06 2.06-.94-2.06-.94L8.5 2.5l-.94 2.06-2.06.94zm10 10l.94 2.06.94-2.06 2.06-.94-2.06-.94-.94-2.06-.94 2.06-2.06.94z\"/><path d=\"M17.41 7.96l-1.37-1.37c-.4-.4-.92-.59-1.43-.59-.52 0-1.04.2-1.43.59L10.3 9.45l-7.72 7.72c-.78.78-.78 2.05 0 2.83L4 21.41c.39.39.9.59 1.41.59.51 0 1.02-.2 1.41-.59l7.78-7.78 2.81-2.81c.8-.78.8-2.07 0-2.86zM5.41 20L4 18.59l7.72-7.72 1.47 1.35L5.41 20z\"/>\n",
       "  </svg>\n",
       "      </button>\n",
       "      \n",
       "  <style>\n",
       "    .colab-df-container {\n",
       "      display:flex;\n",
       "      flex-wrap:wrap;\n",
       "      gap: 12px;\n",
       "    }\n",
       "\n",
       "    .colab-df-convert {\n",
       "      background-color: #E8F0FE;\n",
       "      border: none;\n",
       "      border-radius: 50%;\n",
       "      cursor: pointer;\n",
       "      display: none;\n",
       "      fill: #1967D2;\n",
       "      height: 32px;\n",
       "      padding: 0 0 0 0;\n",
       "      width: 32px;\n",
       "    }\n",
       "\n",
       "    .colab-df-convert:hover {\n",
       "      background-color: #E2EBFA;\n",
       "      box-shadow: 0px 1px 2px rgba(60, 64, 67, 0.3), 0px 1px 3px 1px rgba(60, 64, 67, 0.15);\n",
       "      fill: #174EA6;\n",
       "    }\n",
       "\n",
       "    [theme=dark] .colab-df-convert {\n",
       "      background-color: #3B4455;\n",
       "      fill: #D2E3FC;\n",
       "    }\n",
       "\n",
       "    [theme=dark] .colab-df-convert:hover {\n",
       "      background-color: #434B5C;\n",
       "      box-shadow: 0px 1px 3px 1px rgba(0, 0, 0, 0.15);\n",
       "      filter: drop-shadow(0px 1px 2px rgba(0, 0, 0, 0.3));\n",
       "      fill: #FFFFFF;\n",
       "    }\n",
       "  </style>\n",
       "\n",
       "      <script>\n",
       "        const buttonEl =\n",
       "          document.querySelector('#df-7d31083d-5878-4a9d-9247-f0c14de17752 button.colab-df-convert');\n",
       "        buttonEl.style.display =\n",
       "          google.colab.kernel.accessAllowed ? 'block' : 'none';\n",
       "\n",
       "        async function convertToInteractive(key) {\n",
       "          const element = document.querySelector('#df-7d31083d-5878-4a9d-9247-f0c14de17752');\n",
       "          const dataTable =\n",
       "            await google.colab.kernel.invokeFunction('convertToInteractive',\n",
       "                                                     [key], {});\n",
       "          if (!dataTable) return;\n",
       "\n",
       "          const docLinkHtml = 'Like what you see? Visit the ' +\n",
       "            '<a target=\"_blank\" href=https://colab.research.google.com/notebooks/data_table.ipynb>data table notebook</a>'\n",
       "            + ' to learn more about interactive tables.';\n",
       "          element.innerHTML = '';\n",
       "          dataTable['output_type'] = 'display_data';\n",
       "          await google.colab.output.renderOutput(dataTable, element);\n",
       "          const docLink = document.createElement('div');\n",
       "          docLink.innerHTML = docLinkHtml;\n",
       "          element.appendChild(docLink);\n",
       "        }\n",
       "      </script>\n",
       "    </div>\n",
       "  </div>\n",
       "  "
      ],
      "text/plain": [
       "                  Daily return  Weekly return  Monthly return  Yearly return\n",
       "Allegro                 0.0118        -0.0747          0.0551        -0.6059\n",
       "Alior Bank              0.0082        -0.0274          0.0334        -0.0483\n",
       "CCC                     0.0221         0.0050          0.1198        -0.5550\n",
       "CD Projekt              0.0255        -0.0552         -0.0924        -0.3758\n",
       "Cyfrowy Polsat         -0.0075        -0.0435         -0.0998        -0.3132\n",
       "Dino Polska            -0.0051         0.0511          0.1282         0.0904\n",
       "JSW                     0.0398         0.0136          0.0301         0.9219\n",
       "KGHM                    0.0182         0.0113          0.1583        -0.2746\n",
       "LPP SA                 -0.0059        -0.0174          0.1856        -0.0719\n",
       "Grupa LOTOS             0.0092         0.1020          0.0845         0.4320\n",
       "Mercator Medical       -0.0037        -0.0659         -0.2039        -0.7595\n",
       "Orange Polska           0.0033         0.0149         -0.0207        -0.0982\n",
       "Pekao                   0.0150        -0.0235          0.0179        -0.0544\n",
       "PGE                    -0.0076         0.0116          0.1304        -0.0178\n",
       "PGNiG                   0.0017        -0.0553         -0.0508        -0.0856\n",
       "Orlen                   0.0255         0.0269         -0.0005        -0.0819\n",
       "PKO                     0.0178        -0.0293          0.0201        -0.2218\n",
       "PZU                     0.0213        -0.0389          0.0508        -0.1725\n",
       "Santander Bank          0.0024        -0.0108          0.0348        -0.0661\n",
       "Tauron                  0.0122        -0.0235          0.0152        -0.0902"
      ]
     },
     "execution_count": 21,
     "metadata": {},
     "output_type": "execute_result"
    }
   ],
   "source": [
    "wig20_returns"
   ]
  },
  {
   "cell_type": "code",
   "execution_count": null,
   "metadata": {
    "id": "46d1tO8u2LHU"
   },
   "outputs": [],
   "source": [
    "#Daily performers - top 5 and worse 5\n",
    "daily_top5 =  wig20_returns[\"Daily return\"].sort_values(ascending = False)[0:5]\n",
    "daily_worse5 =  wig20_returns[\"Daily return\"].sort_values(ascending = True)[0:5]"
   ]
  },
  {
   "cell_type": "code",
   "execution_count": null,
   "metadata": {
    "id": "v3P1qi984J6f"
   },
   "outputs": [],
   "source": [
    "#Weekly performers - top 5 and worse 5\n",
    "weekly_top5 =  wig20_returns[\"Weekly return\"].sort_values(ascending = False)[0:5]\n",
    "weekly_worse5 =  wig20_returns[\"Weekly return\"].sort_values(ascending = True)[0:5]"
   ]
  },
  {
   "cell_type": "code",
   "execution_count": null,
   "metadata": {
    "id": "KyjyVInO4UfN"
   },
   "outputs": [],
   "source": [
    "#Monthly performers - top 5 and worse 5\n",
    "monthly_top5 =  wig20_returns[\"Monthly return\"].sort_values(ascending = False)[0:5]\n",
    "monthly_worse5 =  wig20_returns[\"Monthly return\"].sort_values(ascending = True)[0:5]"
   ]
  },
  {
   "cell_type": "code",
   "execution_count": null,
   "metadata": {
    "id": "Pz3MO57U4e0m"
   },
   "outputs": [],
   "source": [
    "#Yearly performers - top 5 and worse 5\n",
    "yearly_top5 =  wig20_returns[\"Yearly return\"].sort_values(ascending = False)[0:5]\n",
    "yearly_worse5 =  wig20_returns[\"Yearly return\"].sort_values(ascending = True)[0:5]"
   ]
  },
  {
   "cell_type": "code",
   "execution_count": null,
   "metadata": {
    "id": "YtAiqCZH4zut"
   },
   "outputs": [],
   "source": [
    "#Objects which can be accessed: wig20_prices, wig20_returns, daily_top5, daily_worse5, weekly_top5, weekly_worse5, monthly_top5, monthly_worse5, yearly_top5, yearly_worse5"
   ]
  },
  {
   "cell_type": "code",
   "execution_count": null,
   "metadata": {
    "colab": {
     "base_uri": "https://localhost:8080/"
    },
    "id": "5O1TV0t-5Cu_",
    "outputId": "efe67e78-78b3-4ee8-cdc5-d6072795b6c3"
   },
   "outputs": [
    {
     "data": {
      "text/plain": [
       "JSW           0.0398\n",
       "CD Projekt    0.0255\n",
       "Orlen         0.0255\n",
       "CCC           0.0221\n",
       "PZU           0.0213\n",
       "Name: Daily return, dtype: float64"
      ]
     },
     "execution_count": 26,
     "metadata": {},
     "output_type": "execute_result"
    }
   ],
   "source": [
    "daily_top5"
   ]
  },
  {
   "cell_type": "code",
   "execution_count": null,
   "metadata": {
    "colab": {
     "base_uri": "https://localhost:8080/"
    },
    "id": "nL4GcP66DbKn",
    "outputId": "15881c56-f09b-4bc8-da0e-59c469ebbd19"
   },
   "outputs": [
    {
     "data": {
      "text/plain": [
       "PGE                -0.0076\n",
       "Cyfrowy Polsat     -0.0075\n",
       "LPP SA             -0.0059\n",
       "Dino Polska        -0.0051\n",
       "Mercator Medical   -0.0037\n",
       "Name: Daily return, dtype: float64"
      ]
     },
     "execution_count": 27,
     "metadata": {},
     "output_type": "execute_result"
    }
   ],
   "source": [
    "daily_worse5"
   ]
  },
  {
   "cell_type": "code",
   "execution_count": null,
   "metadata": {
    "colab": {
     "base_uri": "https://localhost:8080/"
    },
    "id": "jxMEn8okNtXa",
    "outputId": "9a98f1c2-74be-4dcd-c878-005a4a9f6763"
   },
   "outputs": [
    {
     "data": {
      "text/plain": [
       "JSW            0.9219\n",
       "Grupa LOTOS    0.4320\n",
       "Dino Polska    0.0904\n",
       "PGE           -0.0178\n",
       "Alior Bank    -0.0483\n",
       "Name: Yearly return, dtype: float64"
      ]
     },
     "execution_count": 28,
     "metadata": {},
     "output_type": "execute_result"
    }
   ],
   "source": [
    "yearly_top5"
   ]
  },
  {
   "cell_type": "markdown",
   "metadata": {
    "id": "gxYv2NAO6osg"
   },
   "source": [
    "### **Visualisation of returns**\n",
    "\n"
   ]
  },
  {
   "cell_type": "markdown",
   "metadata": {
    "id": "DvFX6-sn7TOJ"
   },
   "source": [
    "Visualisation done with gridspec in order to combine graphs for more comprehensive visual analysis."
   ]
  },
  {
   "cell_type": "markdown",
   "metadata": {
    "id": "cBdRM_E_6-RD"
   },
   "source": [
    "1. Visualisation of daily returns along with top 5 performers with the highest daily returns and 5 worst performers with the lowest daily returns.\n"
   ]
  },
  {
   "cell_type": "code",
   "execution_count": null,
   "metadata": {
    "id": "ZAb6H7gD6Hil"
   },
   "outputs": [],
   "source": [
    "import matplotlib.gridspec as gridspec"
   ]
  },
  {
   "cell_type": "code",
   "execution_count": null,
   "metadata": {
    "id": "4A8CoNhI6HlC"
   },
   "outputs": [],
   "source": [
    "# defining masks as values below 0 and above 0 - colours differentiation\n",
    "x = wig20_returns.index\n",
    "y = wig20_returns[\"Daily return\"]\n",
    "\n",
    "mask1 = y < 0\n",
    "mask2 = y >= 0"
   ]
  },
  {
   "cell_type": "code",
   "execution_count": null,
   "metadata": {
    "colab": {
     "base_uri": "https://localhost:8080/",
     "height": 702
    },
    "id": "B47iExiY6Hn-",
    "outputId": "1a008aae-ec19-4fa5-ea57-791702920797"
   },
   "outputs": [
    {
     "data": {
      "text/plain": [
       "Text(0.5, 1.0, '5 performers with the lowest daily return')"
      ]
     },
     "execution_count": 31,
     "metadata": {},
     "output_type": "execute_result"
    },
    {
     "data": {
      "image/png": "[encoded data removed]",
      "text/plain": [
       "<Figure size 1440x720 with 3 Axes>"
      ]
     },
     "metadata": {
      "needs_background": "light"
     },
     "output_type": "display_data"
    }
   ],
   "source": [
    "gridsize = (3, 3)\n",
    "fig = plt.figure(figsize=(20, 10))\n",
    "ax1 = plt.subplot2grid(gridsize, (0, 0), colspan=2, rowspan=3)\n",
    "plt.bar(x[mask1], y[mask1], color = 'red')\n",
    "plt.bar(x[mask2], y[mask2], color = 'blue')\n",
    "plt.xticks(rotation=50)\n",
    "plt.title(\"Daily return of WIG20 companies\")\n",
    "\n",
    "ax2 = plt.subplot2grid(gridsize, (0, 2))\n",
    "plt.style.use('ggplot')\n",
    "daily_top5.T.plot(kind='bar', color='blue')\n",
    "plt.ylabel('Daily return')\n",
    "plt.title('Top 5 performers with the highest daily return')\n",
    "\n",
    "ax3 = plt.subplot2grid(gridsize, (2, 2))\n",
    "plt.style.use('ggplot')\n",
    "daily_worse5.T.plot(kind='bar')\n",
    "plt.ylabel('Daily return')\n",
    "plt.title('5 performers with the lowest daily return')\n"
   ]
  },
  {
   "cell_type": "markdown",
   "metadata": {
    "id": "Cmn4WRMe8Iie"
   },
   "source": [
    "2. Visualisation of weekly returns along with top 5 performers with the highest weekly returns and 5 worst performers with the lowest weekly returns."
   ]
  },
  {
   "cell_type": "code",
   "execution_count": null,
   "metadata": {
    "id": "tJ170j1m6HrW"
   },
   "outputs": [],
   "source": [
    "x = wig20_returns.index\n",
    "y = wig20_returns[\"Weekly return\"]\n",
    "\n",
    "mask1 = y < 0\n",
    "mask2 = y >= 0"
   ]
  },
  {
   "cell_type": "code",
   "execution_count": null,
   "metadata": {
    "colab": {
     "base_uri": "https://localhost:8080/",
     "height": 702
    },
    "id": "Xg2ny9t56HuT",
    "outputId": "5e8eb451-d5fa-48cb-abc8-e4af138f92d8"
   },
   "outputs": [
    {
     "data": {
      "text/plain": [
       "Text(0.5, 1.0, '5 performers with the lowest weekly return')"
      ]
     },
     "execution_count": 33,
     "metadata": {},
     "output_type": "execute_result"
    },
    {
     "data": {
      "image/png": "[encoded data removed]",
      "text/plain": [
       "<Figure size 1440x720 with 3 Axes>"
      ]
     },
     "metadata": {},
     "output_type": "display_data"
    }
   ],
   "source": [
    "gridsize = (3, 3)\n",
    "fig = plt.figure(figsize=(20, 10))\n",
    "ax1 = plt.subplot2grid(gridsize, (0, 0), colspan=2, rowspan=3)\n",
    "plt.bar(x[mask1], y[mask1], color = 'red')\n",
    "plt.bar(x[mask2], y[mask2], color = 'blue')\n",
    "plt.xticks(rotation=50)\n",
    "plt.title(\"Weekly return of WIG20 companies\")\n",
    "\n",
    "ax2 = plt.subplot2grid(gridsize, (0, 2))\n",
    "plt.style.use('ggplot')\n",
    "weekly_top5.T.plot(kind='bar', color='blue')\n",
    "plt.ylabel('Weekly return')\n",
    "plt.title('Top 5 performers with the highest weekly return')\n",
    "\n",
    "ax3 = plt.subplot2grid(gridsize, (2, 2))\n",
    "plt.style.use('ggplot')\n",
    "weekly_worse5.T.plot(kind='bar')\n",
    "plt.ylabel('Weekly return')\n",
    "plt.title('5 performers with the lowest weekly return')\n"
   ]
  },
  {
   "cell_type": "markdown",
   "metadata": {
    "id": "DNfX8DU38PEy"
   },
   "source": [
    "3. Visualisation of monthly returns along with top 5 performers with the highest monthly returns and 5 worst performers with the lowest monthly returns."
   ]
  },
  {
   "cell_type": "code",
   "execution_count": null,
   "metadata": {
    "id": "CzcJMGWE6HxU"
   },
   "outputs": [],
   "source": [
    "x = wig20_returns.index\n",
    "y = wig20_returns[\"Monthly return\"]\n",
    "\n",
    "mask1 = y < 0\n",
    "mask2 = y >= 0"
   ]
  },
  {
   "cell_type": "code",
   "execution_count": null,
   "metadata": {
    "colab": {
     "base_uri": "https://localhost:8080/",
     "height": 702
    },
    "id": "667SueTu6H0M",
    "outputId": "732641fe-6c47-41f4-ae71-0307106f10c9"
   },
   "outputs": [
    {
     "data": {
      "text/plain": [
       "Text(0.5, 1.0, '5 performers with the lowest monthly return')"
      ]
     },
     "execution_count": 35,
     "metadata": {},
     "output_type": "execute_result"
    },
    {
     "data": {
      "image/png": "[encoded data removed]",
      "text/plain": [
       "<Figure size 1440x720 with 3 Axes>"
      ]
     },
     "metadata": {},
     "output_type": "display_data"
    }
   ],
   "source": [
    "gridsize = (3, 3)\n",
    "fig = plt.figure(figsize=(20, 10))\n",
    "ax1 = plt.subplot2grid(gridsize, (0, 0), colspan=2, rowspan=3)\n",
    "plt.bar(x[mask1], y[mask1], color = 'red')\n",
    "plt.bar(x[mask2], y[mask2], color = 'blue')\n",
    "plt.xticks(rotation=50)\n",
    "plt.title(\"Monthly return of WIG20 companies\")\n",
    "\n",
    "ax2 = plt.subplot2grid(gridsize, (0, 2))\n",
    "plt.style.use('ggplot')\n",
    "monthly_top5.T.plot(kind='bar', color='blue')\n",
    "plt.ylabel('Monthly return')\n",
    "plt.title('Top 5 performers with the highest monthly return')\n",
    "\n",
    "ax3 = plt.subplot2grid(gridsize, (2, 2))\n",
    "plt.style.use('ggplot')\n",
    "monthly_worse5.T.plot(kind='bar')\n",
    "plt.ylabel('Monthly return')\n",
    "plt.title('5 performers with the lowest monthly return')"
   ]
  },
  {
   "cell_type": "markdown",
   "metadata": {
    "id": "rspivT_h8Vs_"
   },
   "source": [
    "4. Visualisation of yearly returns along with top 5 performers with the highest yearly returns and 5 worst performers with the lowest yearly returns."
   ]
  },
  {
   "cell_type": "code",
   "execution_count": null,
   "metadata": {
    "id": "LOZU_TA96H3B"
   },
   "outputs": [],
   "source": [
    "x = wig20_returns.index\n",
    "y = wig20_returns[\"Yearly return\"]\n",
    "\n",
    "mask1 = y < 0\n",
    "mask2 = y >= 0"
   ]
  },
  {
   "cell_type": "code",
   "execution_count": null,
   "metadata": {
    "colab": {
     "base_uri": "https://localhost:8080/",
     "height": 702
    },
    "id": "zc8KsxVT6IFD",
    "outputId": "785d6162-611c-409a-b8ee-a46bc277772b"
   },
   "outputs": [
    {
     "data": {
      "text/plain": [
       "Text(0.5, 1.0, '5 performers with the lowest yearly return')"
      ]
     },
     "execution_count": 37,
     "metadata": {},
     "output_type": "execute_result"
    },
    {
     "data": {
      "image/png": "[encoded data removed]",
      "text/plain": [
       "<Figure size 1440x720 with 3 Axes>"
      ]
     },
     "metadata": {},
     "output_type": "display_data"
    }
   ],
   "source": [
    "gridsize = (3, 3)\n",
    "fig = plt.figure(figsize=(20, 10))\n",
    "ax1 = plt.subplot2grid(gridsize, (0, 0), colspan=2, rowspan=3)\n",
    "plt.bar(x[mask1], y[mask1], color = 'red')\n",
    "plt.bar(x[mask2], y[mask2], color = 'blue')\n",
    "plt.xticks(rotation=50)\n",
    "plt.title(\"Yearly return of WIG20 companies\")\n",
    "\n",
    "ax2 = plt.subplot2grid(gridsize, (0, 2))\n",
    "plt.style.use('ggplot')\n",
    "yearly_top5.T.plot(kind='bar', color='blue')\n",
    "plt.ylabel('Yearly return')\n",
    "plt.title('Top 5 performers with the highest yearly return')\n",
    "\n",
    "ax3 = plt.subplot2grid(gridsize, (2, 2))\n",
    "plt.style.use('ggplot')\n",
    "yearly_worse5.T.plot(kind='bar')\n",
    "plt.ylabel('Yearly return')\n",
    "plt.title('5 performers with the lowest yearly return')"
   ]
  },
  {
   "cell_type": "markdown",
   "metadata": {
    "id": "vzcxIbj0EjAE"
   },
   "source": [
    "**Thus using the \"Top 5 performers with the highest yearly return\" we defined the most \"movable\" valuable papers, which are JSW, Grupa LOTOS, Dino Polska, PGE, Alior Bank.**"
   ]
  },
  {
   "cell_type": "markdown",
   "metadata": {
    "id": "AKfNFS3Z_fsM"
   },
   "source": [
    "### **Application of investment strategy**"
   ]
  },
  {
   "cell_type": "markdown",
   "metadata": {
    "id": "xKCdJ4U7nzpq"
   },
   "source": [
    "Consider a strategy where an investor is interested in the maximum share price and the minimum price for the last year or month.\n",
    "\n",
    "As you know, the investor needs to make a decision in accordance with the type of market - a rising or \"bullish\" market or a declining \"bear\" one.\n",
    "\n",
    "A rising market strategy (bull market) assumes that the price per share has already reached its peak for the year and will try to reach the same value - the maximum price again.\n",
    "A falling market (bear market) strategy assumes that the price per share has already reached the biggest low of the year and will try to reach the lowest price again.\n",
    "\n",
    " In our case, we chose a strategy based on data for one calendar year.\n",
    "\n",
    "Accordingly, for this, the investor needs to have data on the maximum and minimum value of the share, as well as what its price is today."
   ]
  },
  {
   "cell_type": "markdown",
   "metadata": {
    "id": "7vqi3PFPItSq"
   },
   "source": [
    "First of all, after analysis of the data we create a new dataframe with Latest price, Maximim price, Minimum price, and the Percent difference of the Latest price to Maximim and Minimum values."
   ]
  },
  {
   "cell_type": "code",
   "execution_count": null,
   "metadata": {
    "id": "XY4Kd1u5ERjt"
   },
   "outputs": [],
   "source": [
    "df3 = pd.DataFrame(wig20_prices, columns = [\"Latest price\", \"Max\", \"Min\", \"% Max\", \"% Min\"])\n",
    "#print(df3.index)"
   ]
  },
  {
   "cell_type": "markdown",
   "metadata": {
    "id": "xS3aWndWnwXw"
   },
   "source": [
    "Next we would like to fill the columns of Maximim, Minimum values via API querries according to the chosen period, in our case previous year. \n",
    "\n",
    "After running this code we will see the life-time general variations in the price of each of 20 companies; the table with needed data for our investor with Max, Min values and the % difference according to the latest price."
   ]
  },
  {
   "cell_type": "code",
   "execution_count": null,
   "metadata": {
    "id": "dl85nvq4nwAj"
   },
   "outputs": [],
   "source": [
    "import time\n",
    "import datetime\n",
    "now = datetime.datetime.now()\n",
    "#determine the time periods for analysis - previous year from current day\n",
    "period2 = int(time.mktime(now.timetuple()))\n",
    "period1 = int(time.mktime(now.replace(year = now.year -1).timetuple()))\n",
    "interval = '1d'\n",
    "\n",
    "stock_symbols_20 = %R stock_symbols\n",
    "\n",
    "for index, ticker in enumerate(stock_symbols_20):\n",
    "  query_string = f'https://query1.finance.yahoo.com/v7/finance/download/{ticker}?period1={period1}&period2={period2}&interval={interval}&events=history&includeAdjustedClose=true'\n",
    "  df = pd.read_csv(query_string).dropna()\n",
    "  df.index = df[\"Date\"]\n",
    "  #plot for general variation in the stock price -> for activation delete #\n",
    "  df[\"Adj Close\"].plot(figsize = (15,8), color = \"green\")\n",
    "  plt.title(df3.index[index])\n",
    "  plt.show()\n",
    "  time.sleep(2)\n",
    "  df_max = df.max()[\"High\"]\n",
    "  df_min = df.min()[\"Low\"]\n",
    "  df3[\"Max\"][index] = df_max.round(2)\n",
    "  df3[\"Min\"][index] = df_min.round(2)\n",
    "  df3[\"% Max\"][index] = ((df_max / df3[\"Latest price\"][index] - 1)*100).round(2)\n",
    "  df3[\"% Min\"][index] = ((df3[\"Latest price\"][index]/df_min - 1) *100).round(2)"
   ]
  },
  {
   "cell_type": "code",
   "execution_count": null,
   "metadata": {
    "id": "V0yAM4MBG-yC"
   },
   "outputs": [],
   "source": [
    "print(df3)"
   ]
  },
  {
   "cell_type": "markdown",
   "metadata": {
    "id": "JPR2mOq-K54l"
   },
   "source": [
    "Thus, we wrote a code that looks for the min and max price of a stock for the past year and, accordingly, helps to analyze the market.\n",
    "\n",
    "Our code will help the investor to get the desired data, visually see the changes in the share price for the year, shows the percentage ratio, submit the corresponding order to buy or sell. Depending on the analysis of the general direction of the market, we can assume the following strategy.\n",
    "\n",
    "Sort the stock prices of 20 companies in such a way that the top 5 remain at the top, whose percentage ratio to the maximum or minimum, in accordance with the chosen strategy."
   ]
  },
  {
   "cell_type": "code",
   "execution_count": null,
   "metadata": {
    "id": "FvoFJecKWcB9"
   },
   "outputs": [],
   "source": [
    "sort_bull = df3.sort_values(by=[\"% Max\"], ascending=False).head(5)\n",
    "sort_bear = df3.sort_values(by=[\"% Min\"], ascending=False).head(5)\n",
    "print(\"Sorting for bull market\\n\", sort_bull, \"\\n\\n Sorting for bear market\\n\", sort_bear)"
   ]
  },
  {
   "cell_type": "markdown",
   "metadata": {
    "id": "AZej603Q_sCO"
   },
   "source": [
    "So, as we can see according to the tables the top 5 for bull market are: Mercator Medical, Allegro, CCC, Alior Bank, CD Projekt \n",
    "\n",
    "For bear market: JSW, PGE, Tauron, Grupa LOTOS, LPP SA\n",
    "\n",
    "**This values showed the most the potential for significant change value papers for both markets.**"
   ]
  },
  {
   "cell_type": "markdown",
   "metadata": {
    "id": "19KRA8ebDG5w"
   },
   "source": [
    "So, according to the strategy of our investor we should to create the sybliosis of the data obtained to select the most \"moving\" valuable papers with the largest potential for possible changes (growth - in a bull market and fall - in a bear market)"
   ]
  },
  {
   "cell_type": "markdown",
   "metadata": {
    "id": "nXhHkrSRU0G2"
   },
   "source": [
    "For implemeting we created 2 separate dataframes and used intersection function for finding for finding the best suitable valuable paper for both parameters."
   ]
  },
  {
   "cell_type": "code",
   "execution_count": null,
   "metadata": {
    "id": "Y7RM1pDU_ru8"
   },
   "outputs": [],
   "source": [
    "a = yearly_top5.index\n",
    "b = sort_bull.index\n",
    "#print(set(a), set(b))\n",
    "c = set(a).intersection(set(b))\n",
    "print(c)"
   ]
  },
  {
   "cell_type": "markdown",
   "metadata": {
    "id": "1S-R2qkF_vh2"
   },
   "source": [
    "**According to the code we can suggest to investor for bull market valuable papers of Alior Bank.**"
   ]
  },
  {
   "cell_type": "code",
   "execution_count": null,
   "metadata": {
    "id": "zpZxyeGk_vSS"
   },
   "outputs": [],
   "source": [
    "a = yearly_top5.index\n",
    "d = sort_bear.index\n",
    "#print(set(a), set(d))\n",
    "f = set(a).intersection(set(d))\n",
    "print(f)"
   ]
  },
  {
   "cell_type": "markdown",
   "metadata": {
    "id": "H0AgmaJRVXci"
   },
   "source": [
    "**According to the code we can suggest to investor for bear market valuable papers of PGE, JSW, Grupa LOTOS.**"
   ]
  },
  {
   "cell_type": "markdown",
   "metadata": {
    "id": "8NKvbQYJVghr"
   },
   "source": [
    "So with our code we helped to optimize the work of the investor using the following strategy:\n",
    "\n",
    "a) defined of \"movable\" valuable papers - JSW, Grupa LOTOS, Dino Polska, PGE, Alior Bank\n",
    "\n",
    "b) identified the list of potential for significant change valuable papers - Mercator Medical, Allegro, CCC, Alior Bank, CD Projekt, JSW, PGE, Tauron, Grupa LOTOS, LPP SA\n",
    "\n",
    "c) suggested to use the following valuable papers wich contained in themself the data obtained to select the most \"moving\" valuable papers with the largest potential for possible changes  - Alior Bank, PGE, JSW, Grupa LOTOS "
   ]
  }
 ],
 "metadata": {
  "colab": {
   "collapsed_sections": [],
   "name": "RTA_project.ipynb",
   "provenance": []
  },
  "kernelspec": {
   "display_name": "Python 3",
   "language": "python",
   "name": "python3"
  },
  "language_info": {
   "codemirror_mode": {
    "name": "ipython",
    "version": 3
   },
   "file_extension": ".py",
   "mimetype": "text/x-python",
   "name": "python",
   "nbconvert_exporter": "python",
   "pygments_lexer": "ipython3",
   "version": "3.7.6"
  }
 },
 "nbformat": 4,
 "nbformat_minor": 1
}
